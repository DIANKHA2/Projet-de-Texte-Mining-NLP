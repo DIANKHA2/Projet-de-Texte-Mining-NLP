{
 "cells": [
  {
   "cell_type": "markdown",
   "metadata": {
    "id": "VgQoJQNeksCF"
   },
   "source": [
    "# Projet : Concevoir et implémenter un système de filtrage de cv\n",
    "Présenté par : Abdoulaye DIANKHA M2BI"
   ]
  },
  {
   "cell_type": "code",
   "execution_count": 1,
   "metadata": {},
   "outputs": [],
   "source": [
    "#Pour convertir les cvs PDF en format texte\n",
    "#pip install PyPDF2"
   ]
  },
  {
   "cell_type": "code",
   "execution_count": 54,
   "metadata": {
    "id": "r3Ys8I9P8Ber"
   },
   "outputs": [],
   "source": [
    "import os\n",
    "import re\n",
    "import numpy as np\n",
    "import pandas as pd\n",
    "import PyPDF2\n",
    "import nltk\n",
    "#nltk.download('punkt')\n",
    "from nltk import SnowballStemmer\n",
    "from nltk import word_tokenize\n",
    "from nltk.corpus import stopwords\n",
    "from sklearn.feature_extraction import text\n",
    "from sklearn.feature_extraction.text import TfidfVectorizer\n",
    "#Pour traiter tout ce qui contient du html dans le texte\n",
    "from bs4 import BeautifulSoup\n",
    "# Partitionnement du jeu de données\n",
    "from sklearn.model_selection import train_test_split\n",
    "# Graphiques\n",
    "from matplotlib import pyplot as plt\n",
    "import seaborn as sns\n",
    "from sklearn_pandas import DataFrameMapper\n",
    "from sklearn.metrics  import classification_report\n",
    "from sklearn.pipeline import make_pipeline"
   ]
  },
  {
   "cell_type": "markdown",
   "metadata": {
    "id": "EZzvYmdN6ZHd"
   },
   "source": [
    "## Importation des données\n",
    "Pour ce faire, nous définissons une mini fonction\n",
    "On parcours le dossier de cvs, on lit chaque cv, on le convertit et on lui attribut sa catégorie..."
   ]
  },
  {
   "cell_type": "code",
   "execution_count": 55,
   "metadata": {},
   "outputs": [],
   "source": [
    "def lit_cvs(chemin=\"\"):\n",
    "    \"\"\"Retourne une liste de tuples (\"cv au format texte\", \"étiquette/classe/catégorie\") contenant le jeu de données\"\"\"\n",
    "    _nb = 0 #On dénombre les fichiers lus\n",
    "    _categories = [_cat for _cat in os.listdir(chemin) if not(_cat.startswith(\"desktop\"))]\n",
    "    print(\"#Total catégories: \", len(_categories))\n",
    "    _cvs = list()\n",
    "    print(\"#Convertion des cvs de chaque catégorie...\")\n",
    "    for _categorie in _categories:\n",
    "        _pdf_cvs= os.listdir(chemin+\"/\"+_categorie)\n",
    "        print(\"Cat {} : {} => {} cvs\".format(_nb, _categorie, len(_pdf_cvs)), end=\" \")\n",
    "        #On convertit chaque pdf\n",
    "        _nb_error = 0\n",
    "        for _pdf_cv in _pdf_cvs:\n",
    "            try:\n",
    "               pdf = PyPDF2.PdfFileReader(open(chemin+\"/\"+_categorie+'/'+_pdf_cv, \"rb\"))\n",
    "            except:\n",
    "                #print(\"error\")\n",
    "                _nb_error+=1\n",
    "                pass\n",
    "            else:\n",
    "                contenu=\"\"\n",
    "                for page in pdf.pages:\n",
    "                    contenu+=page.extractText()\n",
    "                    #print(page.extractText())\n",
    "                _cvs.append((contenu, _categorie))\n",
    "        print(\", {} error(s)\".format(_nb_error))\n",
    "        _nb+=1\n",
    "    print(\"#Fin convertion\")\n",
    "    \n",
    "    return _cvs"
   ]
  },
  {
   "cell_type": "markdown",
   "metadata": {},
   "source": [
    "Exécution"
   ]
  },
  {
   "cell_type": "code",
   "execution_count": 56,
   "metadata": {
    "id": "ypN4jEZKkhAc"
   },
   "outputs": [
    {
     "name": "stdout",
     "output_type": "stream",
     "text": [
      "#Total catégories:  24\n",
      "#Convertion des cvs de chaque catégorie...\n",
      "Cat 0 : ACCOUNTANT => 119 cvs , 1 error(s)\n",
      "Cat 1 : ADVOCATE => 119 cvs , 1 error(s)\n",
      "Cat 2 : AGRICULTURE => 64 cvs , 1 error(s)\n",
      "Cat 3 : APPAREL => 98 cvs , 1 error(s)\n",
      "Cat 4 : ARTS => 104 cvs , 1 error(s)\n",
      "Cat 5 : AUTOMOBILE => 37 cvs , 1 error(s)\n",
      "Cat 6 : AVIATION => 118 cvs , 1 error(s)\n",
      "Cat 7 : BANKING => 116 cvs , 1 error(s)\n",
      "Cat 8 : BPO => 23 cvs , 1 error(s)\n",
      "Cat 9 : BUSINESS-DEVELOPMENT => 121 cvs , 1 error(s)\n",
      "Cat 10 : CHEF => 119 cvs , 1 error(s)\n",
      "Cat 11 : CONSTRUCTION => 113 cvs , 1 error(s)\n",
      "Cat 12 : CONSULTANT => 116 cvs , 1 error(s)\n",
      "Cat 13 : DESIGNER => 108 cvs , 1 error(s)\n",
      "Cat 14 : DIGITAL-MEDIA => 97 cvs , 1 error(s)\n",
      "Cat 15 : ENGINEERING => 119 cvs , 1 error(s)\n",
      "Cat 16 : FINANCE => 119 cvs , 1 error(s)\n",
      "Cat 17 : FITNESS => 118 cvs , 1 error(s)\n",
      "Cat 18 : HEALTHCARE => 116 cvs , 1 error(s)\n",
      "Cat 19 : HR => 111 cvs , 1 error(s)\n",
      "Cat 20 : INFORMATION-TECHNOLOGY => 121 cvs , 1 error(s)\n",
      "Cat 21 : PUBLIC-RELATIONS => 112 cvs , 1 error(s)\n",
      "Cat 22 : SALES => 117 cvs , 1 error(s)\n",
      "Cat 23 : TEACHER => 103 cvs , 1 error(s)\n",
      "#Fin convertion\n"
     ]
    }
   ],
   "source": [
    "chemin1 = \"./jeu_de_donnees/cv_dataset\"\n",
    "cvs = lit_cvs(chemin1)\n",
    "#cvs_df = pd.DataFrame({\"id\":ids, \"cv\":cvs})\n",
    "#cvs_df"
   ]
  },
  {
   "cell_type": "code",
   "execution_count": 57,
   "metadata": {},
   "outputs": [
    {
     "data": {
      "text/plain": [
       "array([['ACCOUNTANTSummary\\nFinancial Accountant specializing in financial planning, reporting and analysis within the Department of Defense.\\nHighlights\\nAccount reconciliations\\nResults-oriented\\nFinancial reporting\\nCritical thinking\\nAccounting operations professional\\nAnalysis of financial systems\\nERP (Enterprise Resource Planning) software.\\nExcellent facilitator\\nAccomplishments\\nServed on a tiger team which identified and resolved General Ledger postings in DEAMS totaling $360B in accounting adjustments. This allowed\\nfor the first successful fiscal year-end close for 2012.\\nIn collaboration with DFAS Europe, developed an automated tool that identified duplicate obligations. This tool allowed HQ USAFE to\\ndeobligate over $5M in duplicate obligations.\\nExperience\\nCompany Name\\n \\nJuly 2011\\n \\nto \\nNovember 2012\\n \\nAccountant\\n \\nCity\\n \\n, \\nState\\nEnterprise Resource Planning Office (ERO)\\nIn this position as an Accountant assigned to the Defense Enterprise Accounting and Management System (DEAMS) ERO I was\\nresponsible for identifying and resolving issues affecting the DEAMS General Ledger.\\nI worked with teammates from the Procure to Pay, Orders to Cash, and Budget to Report areas to resolve daily challenges encountered\\nwith the deployment of DEAMS to additional customers and when system change requests were promoted to production.\\nI supported the testing of scripts, patches, and system change requests ensuring any anomalies were identified to the DEAMS Functional\\nManagement Office for action by the DEAMS Program Management Office and/or the System Integrator.\\nIn addition, I served on a tiger team designed to identify and resolve General Ledger posting differences and supported the development of\\n$360B in accounting adjustments allowing for the first successful fiscal year-end close in 2012.\\nThese actions also allowed for the reconciliation and closure of fiscal year 2010 and 2011 accounting adjustments ensuring that all DEAMS\\nfiscal year-end requirements were completed.\\nThese actions were recognized as critical to the successful review report issued by the Air Force Operational Test and Evaluation Center\\n(AFOTEC) resulting in the Air Force receiving the authority to continue with the deployment of DEAMS.\\nCompany Name\\n \\nApril 2010\\n \\nto \\nJune 2011\\n \\nResource Advisor\\n \\nCity\\n \\n, \\nState\\nIn this position as Resource Advisor for the 1st Air Communications Operation Squadron (1ACOS) I was responsible for providing\\nfinancial advice and decision support to the Commander.\\nI was responsible for coordinating a $4.6M budget between four funding sources.\\nI coordinated with USAFE Directorate of Intelligence (USAFE/A2), USAFE Directorate of Air and Space Operations (USAFE/A3),\\nUSAFE Directorate of Communications (USAFE/A6) and the 435th Air Ground Operations Wing to ensure 1ACOS meets its mission\\nrequirements.\\nI consistently managed three separate timelines for providing budget/unfunded requirements, providing documentation and various reports in\\nthe required format for each organization.\\nI discussed the outcome of the Group and Directorate budget meetings providing feedback the same day to the Flight Chiefs and CC any\\nissue which affects 1ACOS directly.\\nI monitored the Defense Travel System (DTS) daily and identify orders and authorizations needing approval and provided notification to the\\nappropriate Reviewing Officials and Approvers.\\nUtilizing DTS and the General Accounting and Finance System I reviewed status reports to identify anomalies in obligations and have\\nidentified those orders which require correction prior to payment.\\nI provided Government Purchase Card (GPC) status reports the same day they are requested and in addition, communicated with the\\nappropriate cardholders when changes were required to support their program.\\nI identified cardholder training requirements and monitored these requirements to ensure all required training was completed in support of\\nthis mission critical program.\\nI developed guidance for the GPC cardholders on procedures for requesting training for the squadron and in addition I provided answers to\\ncardholder questions on unique or non-standard issues/concerns.Assumed the role of the Billing Official during my final rating period and completed a self inspection of the program for the Management\\nControl Program, zero findings.\\nDuring yearly audit by 700th CONS received zero findings.\\nCompany Name\\n \\nJuly 2008\\n \\nto \\nApril 2010\\n \\nStaff Accountant\\n \\nCity\\n \\n, \\nState\\nIn my position as the Staff Accountant for HQ USAFE I was responsible for providing accounting and financial oversight and advice to\\ncustomers throughout the Command in support of the USAFE Comptroller.\\nI was responsible for performing ongoing analysis of financial programs to identify negative trends and weaknesses, ensured specific\\nweaknesses were corrected, and determined whether systemic or repeat issues were identified and adequately addressed.\\nI was required to apply a comprehensive knowledge of analysis/reporting requirements and data produced to resolve these issues.\\nIn collaboration with DFAS Europe, developed an automated tool that identifies duplicate obligations by comparing records in the\\naccounting system to the contracting system and provided notification to the funds manager for review and resolution.\\nThis tool eliminated hours of manual research and results allowed HQ USAFE to deobligate over $5M in duplicate obligations.\\nI was responsible for establishing various performance metrics which ensured effective and efficient use of USAFE financial resources.\\nI supported the USAFE/FMA Financial metrics program by collaborating with DFAS Limestone in the development of an automated tool\\nthat provided senior leaders with visibility to any USAFE unit that is not in compliance with the established rules and regulations related to\\nthe GPC.\\nThis tool provides management reports that are used to populate the monthly metric charts which are briefed by the USAFE/FMA.\\nThis tool provided the capability for USAFE/FMA to collaborate with USAFE Contracting and develop/deploy joint guidance that supports\\nthe established Air Force Instruction mandating card suspension for card holders who are not in compliance with required reservation of\\nfunds in the entitlement system in support of the GPC.\\nI identified and resolved a problem with five GPC accounts that had been rejecting during the automated interface process each month.\\nMy research revealed that these accounts were rejecting for invalid paying station and required manual intervention by both Wing and\\nDFAS personnel.\\nThis not only created rework, it delayed the payment of the invoices.\\nI partnered with DFAS Denver, corrected the records in the Access On-Line accounts eliminating the error condition.\\nI identified a method to deliver one-on-one training in support of the USAFE deployment of the Open Document Analysis (ODA) tool in\\nFMSuite.\\nBy utilizing Defense Connect Online I \\nprovided training remotely, virtually eliminating the need to expend funds on Temporary Duty (TDY)\\ntravel.\\nThe results of this training produced results that went well above expectations and were noted by the ODA Program Management Office.\\nCompany Name\\n \\nJanuary 2007\\n \\nto \\nJuly 2009\\n \\nChief, Reports Branch. Accounts Maintenance and Control\\n \\nCity\\n \\n, \\nState\\nIn my position as Chief of the Reports Branch in Accounts Maintenance & Control (AM&C) I was responsible for ensuring the\\ndevelopment and standardization of various managerial and system reports.\\nI was responsible for the completeness and accuracy of weekly, monthly, quarterly, semi-annual, and annual reports.\\nMy branch monitored errors in the General Accounting and Finance System (GAFS/BQ) and ensured corrective actions were\\naccomplished.\\nI also ensured fund balances were reconciled and reports were verified prior to release to base activities and higher headquarters.\\nLimestone reorganized under the High Performing Organization (HPO) in January 2007 and at that time I was reassigned to AM&C, a\\nDirectorate which previously did not exist.\\nMy challenge during that time was to staff my branch, implement an aggressive training schedule, and ensure the continuity of financial\\nreporting was maintained.\\nAs we transitioned into the HPO we continued defining the missions and functions for AM&C for the entire network.\\nI participated in biweekly conference calls with Standards and Compliance in an effort to define missions and functions for AM&C.\\nWorked with management in determining FTEs needed for the branch.\\nI was responsible for developing meaningful performance standards for my employees since this branch and its functions did not previously\\nexist.\\nLimestone POC for an initiative to eliminate suspense accounts throughout the agency.\\nIdentified suspense accounts not initially targeted, formulated strategies to eliminate accounts or requested waivers, and participated in plans\\nto modify processes using suspense accounts, such as the interfund suspense account.\\nThese actions provided initial progress towards meeting the Department of Treasury\\'s mandate to discontinue suspense accounts by\\nFebruary 2009.\\nWorked with staff to reduce reconciliations from $6.9 million in February 2007 to $1.1 million in August, accomplished this despite loss in\\nexperienced personnel and realigning resources to support critical initiatives in Accounts Payable.\\nI orchestrated the transition of reporting requirements for the Transportation Financial Management System (TFMS) workload from DFAS\\nOmaha to Limestone.\\nAfter transition to Limestone encouraged staff responsible for these reports to streamline the processes.\\nStaff automated a completely manual, time consuming process, thus eliminating potential key stroke errors and manually validating numerous\\nspreadsheets and listings.\\nContributor to Federal Managers Financial Integrity Act (FMFIA) Compliance Review and establishment of assessable units.Identified inconsistencies in information provided by staff on foreign currency fluctuation adjustments.\\nPersisted in getting higher level review of regulatory and policy guidance.\\nReport of foreign currency fluctuation is now consistently accurate.\\nCompany Name\\n \\nFebruary 2000\\n \\nto \\nJanuary 2007\\n \\nChief, Accounts Payable Branch\\n \\nCity\\n \\n, \\nState\\nAs Chief Of Accounts Payable \\nI was responsible for the overall management of a branch consisting of over 120 employees.\\nMy four first line supervisors were responsible for establishing priorities, schedules, and work assignments ensuring changes in workload are\\naccounted for to minimize the impact on normal office operations.\\nWe consistently reviewed these areas and made necessary personnel moves based on shifting priorities.\\nThis was \\nextremely important during the DFAS Denver directed database consolidations and with the assumption of the Air National Guard\\nworkload.\\nWorkload increased rapidly while staffing increased gradually, which dictated frequent priority changes and personnel moves.\\nI also worked closely with the Major Commands supported by DFAS Limestone strengthening our partnership when workload spikes\\nnegatively impacted our customers.\\nIn December 2004, our overaged invoice percentage was nearing 25% and we had a backlog of vendor pay documents exceeding 30,000.\\nBy working with the DFAS Command Client Executives and the Major Command Comptrollers, I was instrumental in forming a strategy\\nthat included soliciting Air Force personnel assistance in document processing, identification of \"must pay now\" bills, and the formation of\\nspecial action response teams dedicated to responding to our customer\\'s most urgent requirements.\\nAs a result of these efforts, in a three month period, we were able to reduce our overaged invoice percentage by 19% and our backlog of\\ndocuments to no documents over 20 days old thereby minimizing the adverse impact on customer funds.\\nI was responsible for providing personnel feedback sessions quarterly and prepared supervisory appraisals of employees\\' performance and\\npotential for advancement.\\nPartnering with the management staff and employees, I was instrumental in establishing Employee Performance Plans that linked employee\\nperformance to established DFAS Strategies and Balance Scorecard goals.\\nIn this position as a supervisory accountant I was responsible for performing ongoing analysis of the Vendor Pay workflow and production\\nto identify negative trends and weaknesses, ensure specific weaknesses have been corrected, and determine whether systemic or repeat\\nissues have been identified and adequately addressed.\\nI was required to apply a comprehensive knowledge of analysis/reporting requirements, work processes, vendor pay system structures, and\\ndata produced to resolve these issues.\\nUtilizing my expertise with Louis II data retrieval software, I produced ad-hoc data queries for in-house and external use by our customers.\\nThese retrievals were designed to reduce the man- hours necessary to perform complex finance and accounting functions by DFAS and Air\\nForce personnel.\\nI was responsible for the budget resources necessary to operate the branch.\\nIn this capacity, I prepared budget over execution justifications, plan and monitor overtime costs, and control supply purchases to ensure the\\nmost cost efficient operation possible.\\nI was required to respond to inquiries from various sources, which include, but are not limited to, vendors, DFAS management, accounting\\nliaison offices, resource advisors, and other DFAS field sites.\\nThese inquiries required my ability to relay technical aspects of systems deficiencies to customers who are not familiar with our operation.\\nI participated in video teleconferences, conference calls, and briefings designed to address customer and DFAS management requirements.\\nI was called upon to explain, in laymen\\'s terms, DFAS policy and procedures with regards to delays in payment due to various reasons.\\nI responded to various audit reports and studies; ensuring senior management and audit personnel, understand particular situations within the\\nVendor Pay business process that result in these findings.\\nCompany Name\\n \\nFebruary 1999\\n \\nto \\nFebruary 2000\\n \\nChief, Recon and Reports Branch\\n \\nCity\\n \\n, \\nState\\nIn my position as Chief, Vendor Pay Reports and Recon Branch, I exercised supervision (either directly or indirectly) over 22 employees\\nprimarily in the \"525\" series in grades ranging from GS-5 through GS-8.\\nThis responsibility also included supervision of the German local national workers assigned to my duty section.\\nI was responsible for planning, directing, and supervising the activities of the work force in the review, interpretation, processing, and\\nreconciliation of vendor pay and accounting data and the production of timely and accurate financial statement report requirements.\\nI participated in the development of branch policies continually reviewing and evaluating the organizational operations, work distribution, and\\nprocedures.\\nI coordinated the activities of the assigned functions with those of other organizations to obtain the most effective correlation of financial\\ndata.\\nDirected and provided technical guidance to subordinates in the assigned area.\\nAssured the timeliness and accuracy of assigned workload.\\nPlanned, organized, directed, coordinated, and reviewed the work of subordinate\\'s sections ensuring the mission and functions of the\\ndivision were carried out.\\nI managed and realigned resources, conducted program analyses, and made decisions in accordance with unit cost principles, outputs,\\ntargets, and changing budgetary constraints.\\nI participated in long range planning, goal setting, and evaluating the subordinate staff.\\nInterpreted and clarified branch policies and resolved operational problems.\\nEnsured efficient utilization and professional development of my staff.I was expected to provide reasonable assurance that operations were conducted in compliance with applicable laws and that funds,\\nproperty, and other assets were safeguarded against waste, loss, unauthorized use, or misappropriation.\\nI ensured continuing and affirmative application and support of DoD and DFAS policy concerning the equal opportunity and affirmative\\naction programs.\\nEnsured personnel management within organizational entity under my supervision was accomplished without regard to race, color, religion,\\nsex, age, national origin, or handicap.\\nI kept abreast of developments, policy issuance, and other similar material in the equal opportunity field and fully supported the DoD and\\nDFAS Equal Opportunity Program.\\nI was responsible and accountable for the safety and health of my subordinates.\\nI ensured personnel were trained to work safely.\\nI enforced safety and health rules, corrected unsafe or unhealthy acts and unsafe or unhealthy mechanical or physical conditions, investigated\\nmishaps and tool other actions necessary to ensure the safety and health of my employees.\\nCompany Name\\n \\nJune 1995\\n \\nto \\nFebruary 1999\\n \\nChief, Accounts Payable Branch\\n \\nCity\\n \\n, \\nState\\nI was responsible for establishing priorities, schedules, and work assignments ensuring changes in workload are accounted for to minimize\\nthe impact on normal office operations.\\nThis was important during the DFAS Denver directed workload realighment to the Field Sites servicing our customers by Major Command.\\nWorkload increased which dictated frequent priority changes and personnel moves.\\nI also worked closely with the Major Commands supported by DFAS Limestone strengthening our partnership when workload spikes\\nnegatively impacted our customers.\\nI was responsible for providing personnel feedback sessions quarterly and preparedsupervisory appraisals of employees\\' performance and\\npotential for advancement.\\nAs a supervisory accountant I was responsible for performing ongoing analysis of the Vendor Pay workflow and production.\\nI identified negative trends and weaknesses, ensured specific weaknesses were corrected, and determine whether systemic or repeat issues\\nwere identified and adequately addressed.\\nI was required to apply a comprehensive knowledge of analysis/reporting requirements, work processes, vendor pay system structures, and\\ndata produced to resolve these issues.\\nUtilizing my knowledge with Louis II data retrieval software, I produced ad-hoc data queries for in-house and external use by our\\ncustomers.\\nThese retrievals are all designed to reduce the man- hours necessary to perform complex finance and accounting functions by DFAS and\\nAir Force personnel.\\nI was responsible for the budget resources necessary to operate the branch.\\nIn this capacity, I prepared budget over execution justifications, plan and monitor overtime costs, and control supply purchases to ensure the\\nmost cost efficient operation possible.\\nI was required to respond to inquiries from various sources, which include, but are not limited to, vendors, DFAS management, accounting\\nliaison offices, resource advisors, and other DFAS field sites.\\nThese inquiries require my ability to relay technical aspects of systems deficiencies to customers who are not familiar with our operation.\\nI participated in video teleconferences, conference calls, and briefings designed to address customer and DFAS management requirements.\\nI was often called upon to explain, in laymen\\'s terms, DFAS policy and procedures with regards to delays in payment due to various\\nreasons.\\nI was required to respond to various audit reports and studies; ensuring senior management and audit personnel, understand particular\\nsituations within the Vendor Pay business process that result in these findings.\\nI was hand selected by the Field Site Director and Vendor Pay Site Manager to represent DFAS Limestone on a team comprised of\\nrepresentatives from all DFAS Denver field sites to provide training to our Air Force base level Resource Advisors.\\nDuring a five week period, I provided \"Boot Camp\" training to over 400 base level personnel ensuring resource advisors were familiar with\\nthe DFAS structure and mission requirements related to funds management.\\nCompany Name\\n \\nJune 1994\\n \\nto \\nJune 1995\\n \\nAccountant, Network Assistant Team\\n \\nCity\\n \\n, \\nState\\nAs a member of the Network Assistance Team, I was required to have an extensive working knowledge of DoD accounting systems,\\ntheory, policy, and procedures.\\nI was consistently called upon to develop and implement procedures consistent with DoD regulations.\\nCoordinated with DFAS Denver and the Omaha Field Site on the consolidation of the first geographically separated Defense Accounting\\nOffice into DFAS.\\nIn my position as a member of the Network Assistance Team I was required, upon arrival at each base level Defense Accounting Office\\n(DAO) to provide an in-brief.\\nThis briefing identified team members, the purpose of the visit, goals, and responsibilities.\\nUpon completion of the assignment, provided a written and oral out-brief outlining the team accomplishments during the visit.\\nI provided recommendations to preclude recurring problems and to prepare the organization for consolidation.\\nCompany Name\\n \\nJune 1993\\n \\nto \\nJune 1994\\n \\nSupervisor, Accounts Control Branch\\n \\nCity\\n \\n, \\nState\\nI directed/supervised the accomplishment of all financial reports and statements.I directed/supervised the accomplishment of all financial reports and statements.\\nI was responsible for the completeness and accuracy of weekly, monthly, quarterly, semi-annual, and annual reports.\\nMonitored errors in the General Accounting and Finance System (GAFS/BQ) and ensured corrective actions were accomplished.\\nI also ensured fund balances were reconciled to the appropriate audit listings and verified reports prior to release to base activities and\\nhigher headquarters.\\nI furnished accounting data to base organizations often interpreting and analyzing the data to help funds managers resolve problems and\\nmanage their programs more effectively.\\nI attended Major Command (MAJCOM) and Headquarters level workshops to participate and contribute to accounting policy and system\\nchanges.\\nI provided professional assistance to Data Automation relevant to processing of accounting and finance data, interpreting deficiencies in\\nsoftware based on output products and system related problems.\\nI utilized my working knowledge of commercial and government accounting system principles and knowledge of Processing Centers (PCs)\\nto review, verify, analyze, and evaluate accounting and finance operations.\\nWhile serving as Chief, Account Control I ensured areas of concern were addressed, concentrating on problem areas related to the\\ndatabase.\\nI analyzed computer output products to determine processing deficiencies.\\nThey included, but were not limited to, the Open Document Listing (ODL), Operating Budget Ledger (OBL), Allotment Ledger (AL), and\\nthe Accounting and Finance Workload Information Management System (A&F WIMS) Extract list.\\nI provided technical assistance related to policy and procedural.\\nchanges required as a result of the impending base closure.\\nAnalyzed/developed and recommended improved training procedures enabling better use of system procedures ensuring governing\\ndirectives were followed.\\nI evaluated accuracy of accounting records prior to fiscal year closeout ensuring the Accounting and Finance Officer could certify their\\naccuracy as required by regulation.\\nExamined accounting transactions and documents to ensure they conformed to established accounting policy and principles.\\nCoordinated and directed fiscal year end conversion for the GAFS and Integrated Accounts Payable System (IAPS).\\nEducation\\nNorthern Maine Community College\\n \\n1994\\n \\nAssociate\\n \\n: \\nAccounting\\n \\nCity\\n \\n, \\nState\\n \\n, \\nUSA\\nEmphasis in Business\\n1994\\n \\nAssociates\\n \\n: \\nAccounting\\n \\nCity\\n \\n, \\nState\\n \\n, \\nUSA\\n \\nGPA: \\nGPA: 3.41\\nAccounting GPA: 3.41 174 Hours, Quarter\\nAttended Husson College, major Accounting 78 semester hours toward Bachelors degree.\\nProfessional Military Comptroller School, 6wk, 4-98; Managerial Accounting I, 09-98; Interested-Based Bargaining Training for Management,\\n24hrs, 09-01; Auditing Methods and Concepts 09-98; Organizational Leadership, 32hrs, 07-03; Management Development II, 32hrs, 07-03.\\nCertifications\\nCertified Defense Financial Manager, CDFM, May 2005\\nInterests\\nAmerican Society Of Military Comptrollers\\nAdditional Information\\nSkills\\nAccounting; General Accounting; Accounts Payable; Program Management.',\n",
       "        'ACCOUNTANT'],\n",
       "       [\"STAFF ACCOUNTANTSummary\\nHighly analytical and detail-oriented professional; possessing extensive financial statement background in quality assurance, compliance, auditing,\\ncustomer service and regulatory requirements. Thorough knowledge of: financial reporting, cash and accrual basis accounting, fund basis reporting,\\nGAAP and other accounting standards. Adapt quickly when new software and systems are installed. Proficient with: QuickBooks, MAS, ADP,\\nCondo Manager, Adobe, and all Microsoft applications software. Excel in problem solving and strategic planning skills.\\nHighlights\\nDBA \\nQuick Books MAS - Sage Software \\nMicrosoft Excel ADP Drive \\nMicrosoft Access Condo Manager \\nMicrosoft Word\\nEducation\\nBachelor of Science\\n \\n: \\nAccounting\\n \\n, \\nMay 2010\\n \\nUniversity of North Carolina\\n \\nï¼\\u200b \\nCity\\n \\n, \\nState\\n \\nAccounting\\nBachelor of Science\\n \\n: \\nBusiness Administration Finance\\n \\n, \\nMay 2010\\n \\nBusiness Administration Finance\\nExperience\\nStaff Accountant\\n \\nJanuary 2014\\n \\nto \\nOctober 2014\\n \\nCompany Name\\n \\nï¼\\u200b \\nCity\\n \\n, \\nState\\nPerformed all month end functions to produce financial statements.\\nThe functions include: reconciliation of the operating and payroll bank accounts, recorded sales for the month, recorded payroll journals,\\naccrued payroll, recorded sales tax, submitted sales tax to NC department of revenue, recorded inventory adjustments, and recorded\\nbalance sheet month end entries.\\nEntered all payables and receivables for the 7 franchise locations.\\nWorked with vendors to resolve any situations that arose.\\nReviewed and maintained that all needed franchise document were on file and up to date.\\nWorked directly with controller on year-end review.\\nAssembled all requested financial and legal documentation that was put into presentable formats.\\nMaintained weekly spreadsheet on collected franchise royalties and advertising fees.\\nThis spreadsheet is used for the year-end audit.\\nManaged a company that owned and rented out 12 commercial properties of a shopping center to approved businesses.\\nResponsible for: negotiating rent rates for new or renewing tenants, writing leases, collecting rent, cash flow management, payables, and\\nresolving any tenant complaints or inquires.\\nManaged a company that was a small farming entity.\\nResponsible for maintaining cash flow, all payables, and setting up credit accounts with vendors.\\nEntered all payroll journals and maintained cash flow for company that employed labor to work at farming entity.\\nFiled North Carolina Annual Report for all companies managed by Cary Keisler Inc.\\nand verified that all were current on their filings.\\nStaff Accountant\\n \\nMarch 2013\\n \\nto \\nJanuary 2014\\n \\nCompany Name\\n \\nï¼\\u200b \\nCity\\n \\n, \\nState\\nCollect daily deposits for newly entered SOs as well the balance for any SO that has completed once a job status report has been ran.\\nInteract directly with customers on outstanding deposits and balances due.\\nResponsible for all PO and non PO payable entry/coding for all companies.\\nWork directly with vendors to resolve and discrepancy with payables.\\nPull weekly-unpaid bills reports that are used for cash flow projections.\\nComplete weekly check run for all companies.\\nReconcile monthly purchasing American Express credit card that ranges from $60,000.00 - $100,000.00+.\\nHelped facilitate roll of purchasing manager during turnover period from September 2013 - December 2013.\\nResponsible for ordering needed materials/supplies for factory production floor.\\nWorked directly with VP of Finance and members of the production floor in collection of data to develop unit valuation.\\nThis information combined with continued data collection is being used for future bills of materials and job costing.\\nStaff Accountant\\n \\nApril 2012\\n \\nto \\nMarch 2013\\n \\nCompany Name\\n \\nï¼\\u200b \\nState\\nLead reconciliation of Balance Sheet to ensure no discrepancy with General Ledger.\\nResearch and resolve any transaction deviating from ordinary operations.\\nRun Project Cost Reconciliation at month end to ensure all billable expenses are posted to a project.\\nThis ensures all enries are posted to the correct project and General Ledger account.\\nThis provides billing information as well as the correct bottom line for each project.\\nDesign Excel Spreadsheet for prepaid employee benefits for EOM reconciliation purposes.\\nReconcile American Express accounts for SDI and Battleware.\\n10 Accounts) Responsible for all entry and custodial book keeping of SDI's fixed assets for depreciation purposes.\\nDaily reconciliation SDI's Operating, Interest Sweep, and Line of Credit accounts for most accurate cash projections.\\nResponsible for coding and entry of all Payables items for SDI and Battleware.\\nPrepare monthly Sales and Use Tax.\\nFinancial Management Partner\\n July 2010\\n \\nto \\nAugust 2011\\n \\nCompany Name\\n \\nï¼\\u200b \\nCity\\n \\n, \\nState\\nIdentified, reported, tracked, and resolved subsidiary ledger discrepancies in all phases of the revenues and receivables accounting\\nprocesses.\\nProvide an end to end financial statement assurance and accurate presentation by aiding and completing tasks in all areas of operations;\\nperforming all monthly bank reconciliations, applying all required financial regulations in preparing and delivery of financial statements.\\nProvided Support to clients and other employees via email on implementations, software support, and financial reporting issues in all aspects\\nof day-to-day operations.\\nTrained new accounting department employees with functionality demonstration to assist in proficient accounting support and software\\ntransitioning i.e.\\nQuickBooks, Peachtree and excel transitioning.\\nAble to perform duties of all departments of accounting including accounts payable, accounts receivable, legal coordination and transactional\\naudit and review.\\nCoordinate Lien and Foreclosure preparations, research ownership status and balance histories in order to accurately file legal claims on\\nbehalf of our cliental.\\nConstant analysis of all clients' interim financial reports and comparative statements to verify the validity and monitor for inconsistency.\\nPrepare variance reports and explanations to quickly summarize areas of increased variances in expenses.\\nAssist other areas of management in fund accounting budget preparations and presentation at annual and monthly board meetings.\\nCoordinate and prepare materials for audits, review, and tax returns.\\nAssist in annual budget preparations, prepare billings for all cycles, perform all adjusting month end transactions and required G/L posting\\nentries required to correct errors or balance discrepancies.\\nInterests\\nAlpha Sigma Phi: Officer and Chair positions \\nJanuary 2006- May 2010 Vice President Social Chair Greek Week Delegate Livestrong\\nFoundation: Bike-a-thon\\nSkills\\naccounting, accounts payable, Accounts Receivable, ADP, advertising, AR, balance sheet, balance, bank reconciliations, benefits, billing, billings,\\nbook keeping, budget, cash flow projections, cash flow, controller, Credit, clients, data collection, delivery, documentation, email, Finance,\\nfinancial, financial reporting, financial statements, fixed assets, General Ledger, inventory, job costing, ledger, legal, materials, meetings, Microsoft\\nAccess, Microsoft Excel, Excel, Microsoft Word, negotiating, DBA, Payables, payroll, Peachtree, processes, coding, purchasing, Express, Quick\\nBooks, QuickBooks, Research, Sage, Sales, Spreadsheet, Tax, software support, valuation, year-end\\nAdditional Information\\nActivities: Alpha Sigma Phi: Officer and Chair positions \\nJanuary 2006- May 2010 Vice President Social Chair Greek Week Delegate\\nLivestrong Foundation: Bike-a-thon\",\n",
       "        'ACCOUNTANT'],\n",
       "       [\"ACCOUNTANTProfessional Summary\\nTo obtain a position in a fast-paced business office environment, demanding a strong organizational, technical, and interpersonal position utilizing\\nmy skills and attributes. Attributes Self-motivated and honest; good work ethic Effective working alone or as a cooperative team member Reliable\\nand hard-working; thorough in completing projects Committed to excellent customer service\\nCore Qualifications\\nIntermediate Word \\nAdvanced Excel \\nPowerPoint Intermediate Access \\nAccounts Receivable \\nAccounts Payable \\nQuickBooks Enterprise \\nOutlook\\nCustomer Service\\nExperience\\nAccountant\\n \\nJanuary 2011\\n \\nto \\nNovember 2015\\n \\nCompany Name\\n \\nï¼\\u200b \\nCity\\n \\n, \\nState\\nProcessed accounts receivables payments received by ACH, Lockbox, Credit Card and Checks.\\nMaintained all banking activity.\\nDocumented all loan and other payments to the proper G/L Accounts.\\nReview and maintain all positive pay processing with the bank.\\nReview and processed accounts payables reports.\\nProcessed all accounts payables by check, domestic and international wires, ACH, and credit card.\\nReconcile all bank statements.\\nMaintained all credit card activity for all credit card holders, documented transactions to the proper G/L Accounts.\\nCalculate and process all Sales quarterly commission reports.\\nReview and complete all credit checks and reference checks on new customers.\\nMaintain and file the quarterly reports for the Job Development Credit with the State of South Carolina.\\nOrder passports and Visa's for international travel.\\nAccounts Receivable Clerk\\n \\nJanuary 2008\\n \\nto \\nJanuary 2010\\n \\nCompany Name\\n \\nï¼\\u200b \\nCity\\n \\n, \\nState\\nPerformed data entry.\\nProcessed accounts receivable payments.\\nReconciled delivery driver's cash and checks with daily invoices.\\nCorresponded with customers through email and phone calls on overdue invoices.\\nSent bi-weekly and monthly statements.\\nCreated and maintained monthly inventory depletion and sales reports to suppliers.\\nBalanced and solved problems with customer's accounts.\\nFiled customer and suppliers invoices.\\nRan daily trial balance.\\nRan the end of day closing reports.\\nMortgage Underwriter\\n \\nJanuary 2006\\n \\nto \\nJanuary 2008\\n \\nCompany Name\\n \\nï¼\\u200b \\nCity\\n \\n, \\nState\\nProcessed new residential mortgage loan submissions.\\nProvided clear and consistent written and verbal communications with customers/clients.\\nProvided a strong analytical aptitude for reviewing credit reports, bank statements, preliminary title reports and appraisals.\\nCorresponded with customers, loan officers, and account managers for information needed.\\nCommercial Auto Underwriter\\n \\nJanuary 2004\\n \\nto \\nJanuary 2006\\n \\nCompany Name\\n \\nï¼\\u200b \\nCity\\n \\n, \\nState\\nProcessed new business commercial auto applications and issued endorsements.\\nPerformed data entry, reviewed applications, loss runs and driving records.\\nProvided clear and consistent written and verbal communications with customers/brokers.\\nGail L.\\nLugo \\nPage 2 864-472-7092.\\nPersonal Auto Underwriter\\n \\nJanuary 2001\\n \\nto \\nJanuary 2004\\n \\nCompany Name\\n \\nï¼\\u200b \\nCity\\n \\n, \\nState\\nProcessed new business, renewals and endorsements.\\nPerformed data entry, reviewed applications, loss runs and driving records.\\nProcessed account receivable premium checks for insurance premiums.\\nConsistently resolved and answered customer concerns and questions by properly and promptly reviewing policies, endorsements and\\npremium payments.\\nClaims Examiner\\n \\nJanuary 1983\\n \\nto \\nJanuary 2001\\n \\nCompany Name\\n \\nï¼\\u200b \\nCity\\n \\n, \\nStateTrained coworkers on multiple tasks and administrative functions.\\nReviewed medical records and made decisions regarding disability payments.\\nPerformed data entry.\\nCreated, designed and maintained various insurance documents which complied with Truth and Lending regulations.\\nResponded to and resolved all customer inquiries via telecommunications and written correspondence.\\nDeveloped and maintained measures of self-directed team performance which improved workflow.\\nConsistently exceeded company goal of required number of paid claims per hour.\\nPerformed journal entries and ledger postings.\\nReconciled bank statements, budget accounts, and accounts receivable/payable records.\\nRapidly promoted from Level I to Level III within a one-year period due to excellent work performance.\\nEducation\\nComputer Applications Specialist Certificate Program\\n \\n: \\n2008\\n \\nMartinez Adult Education, Business Training Center\\n \\nï¼\\u200b \\nCity\\n \\n, \\nState\\nSkills\\naccounts payables, accounts receivables, Accounts Payable, Accounts Receivable, administrative functions, trial balance, banking, budget, bi,\\nclosing, Computer Applications, Credit, clients, Customer Service, data entry, delivery, driving, email, insurance, inventory, ledger, Access, Excel,\\nOutlook, PowerPoint, Word, mortgage loan, Enterprise, policies, QuickBooks, Sales, sales reports, telecommunications, phone, workflow,\\nwritten\",\n",
       "        'ACCOUNTANT'],\n",
       "       ...,\n",
       "       [\"TEACHERSummary\\nTalented early education professional with diverse experience in planning and implementing various activities for promoting physical, social,\\nemotional and intellectual growth of children.[Job Title] capable of remaining calm under pressure while continuing to keep the preschool setting\\nlight and playful. Will work hard to identify and communicate behavioral and educational issues.Open-minded [Job Title] talented at incorporating\\na blend of traditional and progressive techniques into daily activities. Facilitates clear communication between children, parents and fellow\\nstaff.Creative preschool teacher adept at continually implementing current trends in early childhood curriculum.Early Childhood Teacher\\nspecializing in child psychology and development. Recognizes the importance of the parent-child bond and believes in regularly communicating with\\neach parent.\\nHighlights\\nCPR First Aid Certificate\\nProblem Solver\\nTime Management\\nCreative thinking\\nTeam player\\nCertified in Early Childhood Education\\nConflict resolution techniques\\nTraining in food handling preparation\\nCalm and patient\\nExperience\\n08/2013\\n \\nto \\n01/2016\\nTeacher\\n \\nCompany Name\\n \\nï¼\\u200b \\nCity\\n \\n, \\nState\\nSupervise 3-5 year old children.\\nSetup small group and outdoor activities.\\nMaintain paper work for parent - teacher conference.\\nPromoted good behaviors by using the positive reinforcement method.Maintained daily records of children's individual activities, behaviors,\\nmeals and naps.Established a safe play environment for the children.Distributed quarterly educational assessments, similar to report cards, to\\neach parent.Supervised children on field trips to local parks, fire stations and zoos.Encouraged children to be understanding of\\nothers.Maintained a child-friendly environment with access to outdoor activities.Completed all required documentation for the National\\nHead Start program.Helped children reach milestones in the area of self-care.Developed professional relationships with parents, teachers,\\ndirectors and therapists.Observed children for signs of illness, injury, emotional disturbance, learning disorders and speech\\nproblems.Observed children for signs of illness, injury, emotional disturbance, learning disorders and speech problems.\\n09/2008\\n \\nto \\n06/2013\\nTeacher\\n \\nCompany Name\\n \\nï¼\\u200b \\nCity\\n \\n, \\nState\\nPromoted good behaviors by using the positive reinforcement method.Maintained daily records of children's individual activities, behaviors,\\nmeals and naps.Created and implemented developmentally-appropriate curriculum that addressed all learning styles.Established a safe play\\nenvironment for the children.Supervised children on field trips to local parks, fire stations and zoos.Encouraged children to be understanding\\nof others.Completed all required documentation for the National Head Start program.Helped children reach milestones in the area of self-\\ncare.Developed professional relationships with parents, teachers, directors and therapists.Worked closely with the site director, family care\\nworkers, classroom teaching team and other specialists.Observed children for signs of illness, injury, emotional disturbance, learning\\ndisorders and speech problems.Collaborated with colleagues on developing new classroom projects and monthly themes.\\n08/2007\\n \\nto \\n03/2011\\nBaggage Supervisor\\n \\nCompany Name\\n \\nï¼\\u200b \\nCity\\n \\n, \\nState\\nManage and maintain baggage delivery to airplanes.\\nEnsure safety around all arrival and departure of flights.\\nMake end of shift reports to management team.\\n03/2004\\n \\nto \\n09/2007\\nTeacher\\n \\nCompany Name\\n \\nï¼\\u200b \\nCity\\n \\n, \\nState\\nTeach age level activities.\\nMaintain security.\\nSchedule weekly plans for class.\\nPromoted good behaviors by using the positive reinforcement method.Maintained daily records of children's individual activities, behaviors, mealsand naps.Created and implemented developmentally-appropriate curriculum that addressed all learning styles.Established a safe play environment\\nfor the children.Distributed quarterly educational assessments, similar to report cards, to each parent.Supervised children on field trips to local\\nparks, fire stations and zoos.Encouraged children to be understanding of others.Maintained a child-friendly environment with access to outdoor\\nactivities.Worked closely with the site director, family care workers, classroom teaching team and other specialists.Observed children for signs of\\nillness, injury, emotional disturbance, learning disorders and speech problems.Collaborated with colleagues on developing new classroom projects\\nand monthly themes.\\n03/2015\\n \\nto \\n01/2016\\nLead Volunteer\\n \\nCompany Name\\n \\nï¼\\u200b \\nCity\\n \\n, \\nState\\nVolunteer of the Month.\\nAssist various ministries as needed.\\nAM33 leader and weekly phone caller.\\nEducation\\n6/1996\\nC.D.A - Child Development Associate\\n \\nSeattle Central Community College\\n \\nï¼\\u200b \\nCity\\n \\n, \\nState\\nEmphasis in Child DevelopmentContinuing education in Early Childhood EducationChild Abuse Awareness training\\nPresent\\nBA\\n \\n: \\nElementary Education / Special Needs\\n \\nGrand Canyon University\\n \\nï¼\\u200b \\nCity\\n \\n, \\nState\\nElementary Education / Special NeedsElementary Education coursework\\nSkills\\nCPR, Creative thinking, delivery, First Aid, policies, Problem Solver, safety, teacher, Team player, phone, Time Management\",\n",
       "        'TEACHER'],\n",
       "       ['Kpandipou KoffiSummary\\nCompassionate teaching professional delivering exemplary support and assistance to teachers and students. Display exceptional\\nCommunication and problem solving skills.\\nExperience in office administration and public speaking. Attentive and adaptable, skilled in management of classroom operations. Effective in\\nleveraging student feedback to create dynamic lesson plans that address individual strengths and weaknesses.\\nDedicated and responsive team leader with proven skills in classroom management, behavior modification and individualized support.\\nPersonable with experience using relationship-building to cultivate positive client, staff and management connections. Highly-developed\\ncommunicator with outstanding skills in complex problem-solving and conflict resolution.\\nHigh-performing Administrative Assistant offering experience working with diverse client base and delivering exceptional results. Polished in\\nmanaging client relations, and managing vendor relationships.\\nResults-driven assistant with track record of excelling in fast-paced office environments.\\nCareer-minded with talents in preparing reports, taking messages and sorting and routing mail. Comfortable working in fast-paced,\\ndemanding office environment.\\nEnergetic and reputable individual possessing strong work ethic, professional demeanor and superb initiative. Exceptional customer service\\nand decision-making skills.\\nService-oriented individual with expertise in preparing and modifying documents, coordinating meetings and trips and preparing responses\\non behalf of company. Committed to establishing stellar rapport with clients of diverse backgrounds.\\nMeticulous and systematic Administrative Assistant skilled in organizing, planning and managing daily clerical needs. Bringing solid expertise\\nin coordinating documents, reports and records, handling correspondence and managing deliveries.\\nSkilled in oral and written communication, team leadership and relationship-building.\\nComfortable working alone or with teams to accomplish on-time and accurate clerical tasks. Punctual Administrative Assistant known for\\nhaving terrific work ethic and dynamic communication skills.\\nAdept at preparing correspondence, memoranda and reports in both draft and final form.\\nSkills\\nSuperb communication both verbal and written.\\nReliability and self sufficiency.\\nStrong work ethic.\\nOrganizational and problem solving skills.\\nTeam player and multi tasker.\\nCareer minded, result driven, and goal oriented.\\nAdaptable, positive, eager to contribute in any capacity.\\nMicrosoft Office\\nFluent in French and English\\nExperience\\nAssistant Teacher\\n \\nCity\\n \\n, \\nState\\n \\nCompany Name\\n \\n/\\n \\nJan 2010\\n \\nto \\nJun 2011\\nImplemented lesson plans for class of 30 students.\\nPrepared, duplicated and collected teaching materials to help students better understand learning concepts.\\nHelped students take advantage of other available subject matter and study resources.\\nClassroom restocking, support and management of operations.\\nArranged and led activities for students, including small group and individualized instructions.\\nAssisted teachers with lesson preparation, curriculum implementation, and testing.\\nAssistant Manager Intern\\n \\nCity\\n \\n, \\nState\\n \\nCompany Name\\n \\n/\\n \\nMay 2006\\n \\nto \\nSep 2006\\nSpearheaded training initiatives to improve employee performance and bottom-line business results.\\nGenerated reports to assess performance and make adjustments.\\nIncreased customer base and market share by promoting product through diverse channels.\\nOptimized productivity, streamlined program efficiency, and boosted profitability.\\nSupervised and trained customer service team members to provide exceptional service, driving retention and satisfaction.\\nRemained calm and professional in stressful circumstances and when dealing with unhappy customers, effectively diffusing situations.\\nAddressed internal and customer-related issues each day and affected strategic resolutions.\\nJunior Editor\\n \\nCity\\n \\n, \\nState\\n \\nCompany Name\\n \\n/\\n \\nSep 2004\\n \\nto \\nSep 2006\\nDetermined appropriate page budgets and layouts to guide word count parameters, optimize use of images and graphics as well as maximize\\nimpact within allotted space.\\nEvaluated reporter stories, shaped content and helped improve overall work quality through careful review, detailed editing and constructive\\nfeedback.\\nDeveloped and deepened positive relationships with writing, design and production team members to improve communication and\\ncollaboration.\\nHanded out story assignments, directed content meetings and evaluated submitted pieces to manage overall tone and execution of work.\\nDecided readiness of articles for publication and approved final versions.Edited, rewrote and prepared numerous pieces per week by adjusting reading level to make understanding articles easier and more\\ninteresting.\\nOversaw layout design and worked with production team members to complete fresh monthly publications\\nEducation and Training\\nMBA\\n \\n: \\nMarketing\\n \\nIGlobal University\\n \\nJun 2015\\n \\nCity\\n \\n, \\nState\\nMajor in Marketing\\nCompleted coursework in\\nBBA\\n \\n: \\nBusiness Administration\\n \\nGolden Gate University\\n \\nJun 2011\\n \\nCity\\n \\n, \\nState\\nInternational Student Scholarship Recipient\\nMinor in International Business\\nAssociate of Arts\\n \\nSuffolk University\\n \\nJun 2007\\n \\nCity\\nAssociate in International Business and Business Administration',\n",
       "        'TEACHER'],\n",
       "       [\"TEACHERSummary\\nEducation professional driven to create an environment that promotes hands-on learning for children at all stages of the learning process.\\nHighlights\\nMicrosoft Office\\nSmart Board\\nGeographic Information System\\nEngrade\\nSkedula\\nWorking knowledge of Internet\\nFirst Aid and CPR Certified\\nExcellent classroom management\\nAccomplishments\\nCounseling\\n Â \\nDeveloped and implemented the Fairness Committee, which is a restitution process run by students to help resolve peer issues in a positive,\\nnon-judgmental environment\\nServed as student mentor and counselor for students when academic problems and personal adjustments arose, meeting with guardians to\\nreach solutions.\\nPlan Development\\n Â \\nMonitored and facilitated weekly meeting of Student Council\\nInstructed and advised on leadership skills, incorporated a trip to Ramapo for Children to help instill those leadership qualities.\\nDeveloped a student-based constitution, and ensured its implementation.\\nOversaw all student government issues. Coordinated with the COSA teacher to plan and implement school-wide events.\\nOrganized and planned a Holiday Gift Giving event in conjunction With the Coney Island Generation Gap at the NY Aquarium.\\nIn-cooperation with Diploma Plus High School and Coney Island Generation Gap organized and supervised a Teen Summit about success\\nafter High School and Greening the Community.\\nOrganized and supervised \\nStudent Talent Showcase.\\nOrganized and supervised senior trip, prom, and graduation.\\nRan fund-raising events including a fund-raising benefit concert for a young child who has San Fillipo Syndrome.\\nCoordinated a â€œPay it Forward Campaignâ€\\u200b in our school.\\nCommunity Service\\n Â \\nServed as Environmental action team leader\\nWon two National Events and came in second in another event.\\nInstilled importance of conservation and protection of the environment, by beach clean ups, environmental awareness events, paperless\\nFriday to celebrate Earth Day, and established a recycling program in our school.\\nMonitored the cleaning of Keiser Park Beach in Coney Island where we pulled off over 1,000 pounds of garbag\\nSponsered a graffiti clean up in Coney Island.\\nAffiliations include Alliance for Climate Education, Partnership for Parks/Coney Island division, Friends of Kaiser Park, Community board\\n13, Coney Island Generation Gap, and Urban Neighborhood Services.\\nExperience\\nTeacher\\n \\n, \\n09/2009\\n \\nto \\nCurrent\\n \\nCompany Name\\n \\nï¼\\u200b \\nCity\\n \\n, \\nState\\nTaught Regents level Earth Science\\n , developed curriculum, projects, and exams, facilitated and administered required labs,\\nincorporated film throughout the curriculum exclusively used SmartBoard lessons to enhance student learning.\\nEnvironmental Science:\\n \\nTaught 11th Grade Environmental Science.\\nDeveloped curriculum, projects, and exams.\\nFacilitated labs and activities.\\nHealth\\n : Taught basic Health class incorporating the six components of Health: Physical; Emotional; Social; Mental; Spiritual; and\\nEnvironmental.\\nFemale Soccer Assistant Coach\\n \\n, \\n08/2012\\n \\nto \\nCurrent\\n \\nCompany Name\\n \\nï¼\\u200b \\nCity\\n \\n, \\nState\\nCoordinated practices, taught basic and advanced skills\\nCreated and ran up-to-date and relevant drills\\nMonitored the academic performance of student-athletes in addition to their athletic progress.\\nHelped develop each participant's physical and psychological fitness.\\nFostered a culture of good sportsmanship, cooperation and responsibility.\\nMotivated and encouraged student athletes to do their best during practices and games.School Safety Officer\\n \\n, \\n01/1996\\n \\nto \\n10/1998\\n \\nCompany Name\\n \\nï¼\\u200b \\nCity\\n \\n, \\nState\\nProvided safe and secure learning environment in various high schools, became a qualified driver.\\nFather Flanagan's Boy's Town Non-secured Detention Facility.\\nYouth Care Worker/Recreation Director\\n \\n, \\n01/1994\\n \\nto \\n01/1996\\n \\nCompany Name\\n \\nï¼\\u200b \\nCity\\n \\n, \\nState\\nFacilitated and planned all recreational activities: including calisthenics, basketball games, pool tournaments, and trips away from facility.\\nTaught social skills to youth incarcerated for non-violent crimes in anticipation of release back into society, implemented treatment plans set\\nby qualified therapists.\\nWorked closely with the youth to implement Boy's Town's Behavior Modification program.\\nEducation\\nMaster of Education\\n \\n:\\n \\nCurriculum & Instruction Environmental Education\\n \\n,\\n \\n2015\\n \\nConcordia University (On-Line)\\n \\nï¼\\u200b \\nCity\\n \\n, \\nState\\n \\n, \\nUnited States\\nCurriculum & Instruction Environmental Education\\nBachelor of Arts\\n \\n:\\n \\nEarth Science Teacher \\n,\\n \\n2009\\n \\nBrooklyn College/ CUNY\\n \\nï¼\\u200b \\nCity\\n \\n, \\nState\\n \\n, \\nUSA\\nSecondary Education Teacher \\nEarth Science 7 - 12\\nGlobal Learning and Observations to Benefit the Environment (G.L.O.B.E.)\\nSkills\\nClassroom Management\\nCommunity Involvement\\nClassroom Instruction\\nCritical Thinking\\nUrban Classroom setting\\nProfessional Affiliations\\nNational Science Teachers Association\\nNew York Academy of Sciences\\nUnited Federation of Teachers\",\n",
       "        'TEACHER']], dtype='<U35208')"
      ]
     },
     "execution_count": 57,
     "metadata": {},
     "output_type": "execute_result"
    }
   ],
   "source": [
    "cvs=np.array(cvs)\n",
    "cvs"
   ]
  },
  {
   "cell_type": "markdown",
   "metadata": {},
   "source": [
    "Construction du DataFrame"
   ]
  },
  {
   "cell_type": "code",
   "execution_count": 58,
   "metadata": {},
   "outputs": [
    {
     "data": {
      "text/html": [
       "<div>\n",
       "<style scoped>\n",
       "    .dataframe tbody tr th:only-of-type {\n",
       "        vertical-align: middle;\n",
       "    }\n",
       "\n",
       "    .dataframe tbody tr th {\n",
       "        vertical-align: top;\n",
       "    }\n",
       "\n",
       "    .dataframe thead th {\n",
       "        text-align: right;\n",
       "    }\n",
       "</style>\n",
       "<table border=\"1\" class=\"dataframe\">\n",
       "  <thead>\n",
       "    <tr style=\"text-align: right;\">\n",
       "      <th></th>\n",
       "      <th>cv</th>\n",
       "      <th>categorie</th>\n",
       "    </tr>\n",
       "  </thead>\n",
       "  <tbody>\n",
       "    <tr>\n",
       "      <th>0</th>\n",
       "      <td>ACCOUNTANTSummary\\nFinancial Accountant specia...</td>\n",
       "      <td>ACCOUNTANT</td>\n",
       "    </tr>\n",
       "    <tr>\n",
       "      <th>1</th>\n",
       "      <td>STAFF ACCOUNTANTSummary\\nHighly analytical and...</td>\n",
       "      <td>ACCOUNTANT</td>\n",
       "    </tr>\n",
       "    <tr>\n",
       "      <th>2</th>\n",
       "      <td>ACCOUNTANTProfessional Summary\\nTo obtain a po...</td>\n",
       "      <td>ACCOUNTANT</td>\n",
       "    </tr>\n",
       "    <tr>\n",
       "      <th>3</th>\n",
       "      <td>SENIOR ACCOUNTANTExperience\\nCompany Name\\n \\n...</td>\n",
       "      <td>ACCOUNTANT</td>\n",
       "    </tr>\n",
       "    <tr>\n",
       "      <th>4</th>\n",
       "      <td>SENIOR ACCOUNTANTProfessional Summary\\nSenior ...</td>\n",
       "      <td>ACCOUNTANT</td>\n",
       "    </tr>\n",
       "    <tr>\n",
       "      <th>...</th>\n",
       "      <td>...</td>\n",
       "      <td>...</td>\n",
       "    </tr>\n",
       "    <tr>\n",
       "      <th>2479</th>\n",
       "      <td>HISTORY TEACHERProfessional Summary\\nTo be emp...</td>\n",
       "      <td>TEACHER</td>\n",
       "    </tr>\n",
       "    <tr>\n",
       "      <th>2480</th>\n",
       "      <td>TEACHERSummary\\nHighly ethical, dependable, an...</td>\n",
       "      <td>TEACHER</td>\n",
       "    </tr>\n",
       "    <tr>\n",
       "      <th>2481</th>\n",
       "      <td>TEACHERSummary\\nTalented early education profe...</td>\n",
       "      <td>TEACHER</td>\n",
       "    </tr>\n",
       "    <tr>\n",
       "      <th>2482</th>\n",
       "      <td>Kpandipou KoffiSummary\\nCompassionate teaching...</td>\n",
       "      <td>TEACHER</td>\n",
       "    </tr>\n",
       "    <tr>\n",
       "      <th>2483</th>\n",
       "      <td>TEACHERSummary\\nEducation professional driven ...</td>\n",
       "      <td>TEACHER</td>\n",
       "    </tr>\n",
       "  </tbody>\n",
       "</table>\n",
       "<p>2484 rows × 2 columns</p>\n",
       "</div>"
      ],
      "text/plain": [
       "                                                     cv   categorie\n",
       "0     ACCOUNTANTSummary\\nFinancial Accountant specia...  ACCOUNTANT\n",
       "1     STAFF ACCOUNTANTSummary\\nHighly analytical and...  ACCOUNTANT\n",
       "2     ACCOUNTANTProfessional Summary\\nTo obtain a po...  ACCOUNTANT\n",
       "3     SENIOR ACCOUNTANTExperience\\nCompany Name\\n \\n...  ACCOUNTANT\n",
       "4     SENIOR ACCOUNTANTProfessional Summary\\nSenior ...  ACCOUNTANT\n",
       "...                                                 ...         ...\n",
       "2479  HISTORY TEACHERProfessional Summary\\nTo be emp...     TEACHER\n",
       "2480  TEACHERSummary\\nHighly ethical, dependable, an...     TEACHER\n",
       "2481  TEACHERSummary\\nTalented early education profe...     TEACHER\n",
       "2482  Kpandipou KoffiSummary\\nCompassionate teaching...     TEACHER\n",
       "2483  TEACHERSummary\\nEducation professional driven ...     TEACHER\n",
       "\n",
       "[2484 rows x 2 columns]"
      ]
     },
     "execution_count": 58,
     "metadata": {},
     "output_type": "execute_result"
    }
   ],
   "source": [
    "data=pd.DataFrame(data=cvs, columns=[\"cv\", \"categorie\"])\n",
    "data"
   ]
  },
  {
   "cell_type": "raw",
   "metadata": {},
   "source": [
    "Hint: Essayez d'autres bibliothèques (en dehors de PyPDF2)  pour la conversion pdf->texte.\n",
    "Pourquoi pas une bibliothèque qui utilise l'OCR..."
   ]
  },
  {
   "cell_type": "markdown",
   "metadata": {
    "id": "dijcjDEb6ekV"
   },
   "source": [
    "## Quelques prétraitements\n",
    "Comme prétraitement, nous pouvons :\n",
    "   - Supprimer les stopwords associés à la langue\n",
    "   - Supprimer les stopwords associés au jargon des cvs\n",
    "   - Supprimer les ponctuations\n",
    "   - Uniformiser la casse\n",
    "   - Supprimer les caractères spéciaux\n",
    "   - Lemming\n",
    "   - Stemming\n",
    "   - ... Soyez juste créatif :)"
   ]
  },
  {
   "cell_type": "code",
   "execution_count": 59,
   "metadata": {},
   "outputs": [],
   "source": [
    "def clean (text, to_remove, regex_to_remove):\n",
    "    \"\"\"\n",
    "        text: un document = une chaine de caractère\n",
    "        to_remove: liste de mots à enlever\n",
    "        regex_to_remove: une regex expression compilée\n",
    "        \n",
    "        retourne le texte pré-traité\n",
    "    \"\"\"\n",
    "    # On décode tout ce qui est HTML\n",
    "    text = BeautifulSoup(text, \"lxml\").text \n",
    "    # On uniformise la casse de notre document en minuscule\n",
    "    text = text.lower() \n",
    "    #On supprimer tout ce qui est mauvais caractère\n",
    "    text = regex_to_remove.sub(' ', text)\n",
    "    #On supprime la liste de mots to_remove qui peut être la liste des stopwords\n",
    "    text = ' '.join(word for word in text.split() if word not in to_remove)\n",
    "    # On remplace chaque mots par son lemme \n",
    "    WNlemming = nltk.WordNetLemmatizer()\n",
    "    text = \" \".join([WNlemming.lemmatize(mot, pos=\"v\") for mot in nltk.word_tokenize(text)])\n",
    "    # On peut aussi remplacer les mots plutôt par leur racine\n",
    "    porter = nltk.PorterStemmer()\n",
    "    text = \" \".join([porter.stem(mot) for mot in nltk.word_tokenize(text)])\n",
    "    return text"
   ]
  },
  {
   "cell_type": "markdown",
   "metadata": {},
   "source": [
    "Les mots à enlever"
   ]
  },
  {
   "cell_type": "code",
   "execution_count": 60,
   "metadata": {},
   "outputs": [
    {
     "data": {
      "text/plain": [
       "['above',\n",
       " 'yours',\n",
       " 'here',\n",
       " \"you'll\",\n",
       " 'her',\n",
       " 'those',\n",
       " 'into',\n",
       " 'very',\n",
       " 'before',\n",
       " 'at',\n",
       " 'which',\n",
       " 't',\n",
       " \"won't\",\n",
       " \"isn't\",\n",
       " 'but',\n",
       " 'their',\n",
       " 's',\n",
       " 'm',\n",
       " 'had',\n",
       " 'just',\n",
       " 'against',\n",
       " 'am',\n",
       " 'this',\n",
       " 'after',\n",
       " 'other',\n",
       " 'itself',\n",
       " 'they',\n",
       " 'whom',\n",
       " 'having',\n",
       " 'to',\n",
       " 'its',\n",
       " 'needn',\n",
       " 'who',\n",
       " 'now',\n",
       " 'then',\n",
       " 'from',\n",
       " 'was',\n",
       " 'up',\n",
       " 'some',\n",
       " 'doesn',\n",
       " 'mustn',\n",
       " 'will',\n",
       " 'has',\n",
       " 've',\n",
       " 'did',\n",
       " 'ours',\n",
       " 'and',\n",
       " 'how',\n",
       " 'it',\n",
       " 'doing',\n",
       " \"haven't\",\n",
       " 'we',\n",
       " 'she',\n",
       " 'few',\n",
       " 'if',\n",
       " 'should',\n",
       " 'don',\n",
       " \"needn't\",\n",
       " 'until',\n",
       " \"weren't\",\n",
       " \"don't\",\n",
       " \"hasn't\",\n",
       " 'themselves',\n",
       " 'of',\n",
       " 'off',\n",
       " \"shan't\",\n",
       " \"you're\",\n",
       " 'won',\n",
       " 'theirs',\n",
       " 'as',\n",
       " 'because',\n",
       " 'while',\n",
       " 'further',\n",
       " 'by',\n",
       " 'both',\n",
       " 'mightn',\n",
       " 'aren',\n",
       " 'himself',\n",
       " 'shouldn',\n",
       " 'so',\n",
       " 'out',\n",
       " 'does',\n",
       " 'were',\n",
       " 'couldn',\n",
       " \"wouldn't\",\n",
       " 'under',\n",
       " 'too',\n",
       " 'hadn',\n",
       " 'down',\n",
       " 'he',\n",
       " 'his',\n",
       " 'my',\n",
       " 'during',\n",
       " \"shouldn't\",\n",
       " \"didn't\",\n",
       " 'all',\n",
       " 'is',\n",
       " 'isn',\n",
       " 'own',\n",
       " 'being',\n",
       " 'myself',\n",
       " \"should've\",\n",
       " 'weren',\n",
       " 'yourself',\n",
       " 'than',\n",
       " 'between',\n",
       " 'such',\n",
       " 'any',\n",
       " 'over',\n",
       " 'through',\n",
       " 'have',\n",
       " 'didn',\n",
       " 'when',\n",
       " 'herself',\n",
       " 'o',\n",
       " 'd',\n",
       " 'y',\n",
       " \"doesn't\",\n",
       " 'hasn',\n",
       " 'haven',\n",
       " 'our',\n",
       " 'what',\n",
       " 'your',\n",
       " 'you',\n",
       " \"hadn't\",\n",
       " \"wasn't\",\n",
       " 'are',\n",
       " 'the',\n",
       " \"mustn't\",\n",
       " 'these',\n",
       " 'been',\n",
       " \"you'd\",\n",
       " 'again',\n",
       " 'a',\n",
       " 'in',\n",
       " 'why',\n",
       " 'about',\n",
       " 'them',\n",
       " 'same',\n",
       " 'wouldn',\n",
       " 'll',\n",
       " 'be',\n",
       " 'below',\n",
       " 'him',\n",
       " 're',\n",
       " 'with',\n",
       " \"you've\",\n",
       " \"she's\",\n",
       " 'can',\n",
       " 'hers',\n",
       " \"aren't\",\n",
       " 'an',\n",
       " 'there',\n",
       " 'yourselves',\n",
       " 'only',\n",
       " 'once',\n",
       " \"couldn't\",\n",
       " 'more',\n",
       " 'i',\n",
       " 'ain',\n",
       " 'wasn',\n",
       " 'each',\n",
       " 'most',\n",
       " 'or',\n",
       " 'nor',\n",
       " 'on',\n",
       " 'not',\n",
       " 'me',\n",
       " \"mightn't\",\n",
       " 'shan',\n",
       " \"it's\",\n",
       " \"that'll\",\n",
       " 'do',\n",
       " 'ma',\n",
       " 'no',\n",
       " 'where',\n",
       " 'that',\n",
       " 'ourselves',\n",
       " 'for',\n",
       " 'project',\n",
       " 'work',\n",
       " 'date',\n",
       " 'experience',\n",
       " 'skills',\n",
       " 'knowledge',\n",
       " 'india',\n",
       " 'name',\n",
       " 'university',\n",
       " 'com',\n",
       " 'ltd',\n",
       " 'company',\n",
       " 'personal',\n",
       " 'new',\n",
       " 'school',\n",
       " 'training',\n",
       " 'board',\n",
       " 'college',\n",
       " 'working',\n",
       " 'year',\n",
       " 'professional',\n",
       " 'english',\n",
       " 'details',\n",
       " 'organization',\n",
       " 'gmail',\n",
       " 'information',\n",
       " 'indian',\n",
       " 'birth',\n",
       " 'status',\n",
       " 'projects',\n",
       " 'activities',\n",
       " 'quality',\n",
       " 'address',\n",
       " 'place',\n",
       " 'design',\n",
       " 'data',\n",
       " 'job',\n",
       " 'education',\n",
       " 'hindi',\n",
       " 'objective',\n",
       " 'qualification',\n",
       " 'career',\n",
       " 'pvt',\n",
       " 'years',\n",
       " 'worked',\n",
       " 'per',\n",
       " 'responsibilities',\n",
       " 'nationality',\n",
       " 'etc',\n",
       " 'good',\n",
       " 'delhi',\n",
       " 'above',\n",
       " 'high',\n",
       " 'languages',\n",
       " 'marital',\n",
       " 'known',\n",
       " 'profile',\n",
       " 'time',\n",
       " 'other',\n",
       " 'email',\n",
       " 'services',\n",
       " 'works',\n",
       " 'father',\n",
       " 'various',\n",
       " 'reports',\n",
       " 'institute',\n",
       " 'chennai',\n",
       " 'position',\n",
       " 'responsible',\n",
       " 'course',\n",
       " 'june',\n",
       " 'department',\n",
       " 'ability',\n",
       " 'mail',\n",
       " 'declare',\n",
       " 'july',\n",
       " 'using',\n",
       " 'mobile',\n",
       " 'like',\n",
       " 'level',\n",
       " 'declaration',\n",
       " 'duration',\n",
       " 'hereby',\n",
       " 'academic',\n",
       " 'male',\n",
       " 'designation',\n",
       " 'secondary',\n",
       " 'material',\n",
       " 'monthly',\n",
       " 'language',\n",
       " 'field',\n",
       " 'contact',\n",
       " 'state',\n",
       " 'post',\n",
       " 'single',\n",
       " 'performance',\n",
       " 'area',\n",
       " 'national',\n",
       " 'materials',\n",
       " 'hobbies',\n",
       " 'completed',\n",
       " 'vitae',\n",
       " 'curriculum',\n",
       " 'finance',\n",
       " 'challenging',\n",
       " 'cost',\n",
       " 'prepare',\n",
       " 'managing',\n",
       " 'excellent',\n",
       " 'requirements',\n",
       " 'class',\n",
       " 'part',\n",
       " 'review',\n",
       " 'member',\n",
       " 'such',\n",
       " 'gender',\n",
       " 'skill',\n",
       " 'plan',\n",
       " 'word',\n",
       " 'staff',\n",
       " 'progress',\n",
       " 'months',\n",
       " 'over',\n",
       " 'august',\n",
       " 'required',\n",
       " 'participated',\n",
       " 'within',\n",
       " 'current',\n",
       " 'checking',\n",
       " 'married',\n",
       " 'nagar',\n",
       " 'about',\n",
       " 'title',\n",
       " 'issues',\n",
       " 'passed',\n",
       " 'study',\n",
       " 'th',\n",
       " 'month',\n",
       " 'correct',\n",
       " 'total',\n",
       " 'responsibility',\n",
       " 'description',\n",
       " 'areas',\n",
       " 'saudi',\n",
       " 'strong',\n",
       " 'dubai',\n",
       " 'summary',\n",
       " 'sex',\n",
       " 'degree',\n",
       " 'team',\n",
       " 'oman',\n",
       " 'lucknow',\n",
       " 'noida',\n",
       " 'best',\n",
       " 'true',\n",
       " 'chicago',\n",
       " 'unmarried',\n",
       " 'trichy',\n",
       " 'street',\n",
       " 'resume',\n",
       " 'passing',\n",
       " 'nadu',\n",
       " 'yes',\n",
       " 'percentage',\n",
       " 'marks',\n",
       " 'pradesh',\n",
       " 'curricular',\n",
       " 'uttar',\n",
       " 'sharma',\n",
       " 'singh',\n",
       " 'vill',\n",
       " 'mentioned',\n",
       " 'graduation',\n",
       " 'self',\n",
       " 'gorakhpur',\n",
       " 'music',\n",
       " 'mob',\n",
       " 'listening',\n",
       " 'playing',\n",
       " 'religion',\n",
       " 'dist',\n",
       " 'cricket',\n",
       " 'environment',\n",
       " 'learning',\n",
       " 'attended',\n",
       " 'reading',\n",
       " 'basic',\n",
       " 'hindu',\n",
       " 'uae',\n",
       " 'pur',\n",
       " 'nd',\n",
       " 'st',\n",
       " 'sem',\n",
       " 'passport',\n",
       " 'educational',\n",
       " 'hard',\n",
       " 'belief',\n",
       " 'higher',\n",
       " 'urdu',\n",
       " 'days',\n",
       " 'office',\n",
       " 'permanent',\n",
       " 'pin',\n",
       " 'summer',\n",
       " 'cgpa',\n",
       " 'issue',\n",
       " 'distt',\n",
       " 'pass',\n",
       " 'march',\n",
       " 'expiry',\n",
       " 'growth',\n",
       " 'certificate',\n",
       " 'given',\n",
       " 'signature',\n",
       " 'opportunity',\n",
       " 'examination',\n",
       " 'vidyalaya',\n",
       " 'present',\n",
       " 'division',\n",
       " 'speak',\n",
       " 'institution',\n",
       " 'sec',\n",
       " 'learn',\n",
       " 'achievement',\n",
       " 'achieve',\n",
       " 'furnished',\n",
       " 'strength',\n",
       " 'attitude',\n",
       " 'ability',\n",
       " 'position',\n",
       " 'read',\n",
       " 'write',\n",
       " 'writing',\n",
       " 'speaking']"
      ]
     },
     "execution_count": 60,
     "metadata": {},
     "output_type": "execute_result"
    }
   ],
   "source": [
    "#Liste des stopwords de la langue anglaise\n",
    "english_stops = list(set(stopwords.words(\"english\")))\n",
    "#On récupère les stopwords liés au jargon des cvs\n",
    "with open(\"./jeu_de_donnees/specific_stopwords.txt\") as fichier:\n",
    "    specific_stops = [stop.strip() for stop in fichier.readlines()]\n",
    "#Liste des stopwords\n",
    "stop_words = english_stops+specific_stops\n",
    "stop_words"
   ]
  },
  {
   "cell_type": "markdown",
   "metadata": {},
   "source": [
    "Les mauvais caractères"
   ]
  },
  {
   "cell_type": "code",
   "execution_count": 61,
   "metadata": {},
   "outputs": [],
   "source": [
    "Mauvais_caract = re.compile('[^0-9a-z \\'#+_]')"
   ]
  },
  {
   "cell_type": "code",
   "execution_count": null,
   "metadata": {},
   "outputs": [],
   "source": [
    "def lit_cvs(chemin=\"\", category=)"
   ]
  },
  {
   "cell_type": "markdown",
   "metadata": {},
   "source": [
    "Nettoyage"
   ]
  },
  {
   "cell_type": "code",
   "execution_count": 62,
   "metadata": {},
   "outputs": [
    {
     "name": "stdout",
     "output_type": "stream",
     "text": [
      "Nombre de termes avant nettoyage:  14957022 termes\n",
      "-----------------------------------\n",
      "Nombre de termes après nettoyage:  8765790 termes\n"
     ]
    }
   ],
   "source": [
    "#Taille avant nettoyage\n",
    "print(\"Nombre de termes avant nettoyage:  {} termes\".format(len(\" \".join(data.cv))))\n",
    "# Nettoyage\n",
    "data.cv = data.cv.apply(lambda document: clean(document, stop_words, Mauvais_caract))\n",
    "#Taille après nettoyage\n",
    "print(\"-----------------------------------\")\n",
    "print(\"Nombre de termes après nettoyage:  {} termes\".format(len(\" \".join(data.cv))))"
   ]
  },
  {
   "cell_type": "code",
   "execution_count": null,
   "metadata": {},
   "outputs": [],
   "source": [
    "X_train, X_test, y_train, y_test = train_test_split(data['cv'], data['categorie'], test_size=0.15, random_state=0)"
   ]
  },
  {
   "cell_type": "markdown",
   "metadata": {},
   "source": [
    "Convertion des cv prétraités en une matrice cv-termes en utilisant l'approche de pondération TF-IDF"
   ]
  },
  {
   "cell_type": "code",
   "execution_count": null,
   "metadata": {},
   "outputs": [],
   "source": [
    "from sklearn.feature_extraction.text import TfidfVectorizer\n",
    "tv = TfidfVectorizer(min_df=0., max_df=1., use_idf=True)\n",
    "tv_matrix_vec = tv.fit(X_train)\n",
    "tv_matrix_trans = tv_matrix_vec.fit_transform(X_train)"
   ]
  },
  {
   "cell_type": "code",
   "execution_count": null,
   "metadata": {},
   "outputs": [],
   "source": [
    "from imblearn.over_sampling import RandomOverSampler \n",
    "res = RandomOverSampler(sampling_strategy=\"not majority\")\n",
    "Xr,Yr = res.fit_resample(tv_matrix_trans,y_train)"
   ]
  },
  {
   "cell_type": "code",
   "execution_count": null,
   "metadata": {},
   "outputs": [],
   "source": [
    "Yr.value_counts()"
   ]
  },
  {
   "cell_type": "code",
   "execution_count": null,
   "metadata": {},
   "outputs": [],
   "source": [
    "from sklearn import neighbors\n",
    "\n",
    "knn = neighbors.KNeighborsClassifier(n_neighbors=10)\n",
    "knn.fit(tv_matrix_trans,y_train)\n",
    "y_pred = knn.predict(tv_matrix_vec, transform(X_test))\n",
    "print(metrics.accuracy_score(y_test,y_pred))"
   ]
  },
  {
   "cell_type": "markdown",
   "metadata": {},
   "source": [
    "Entrainement de notre modéle a partir de la matrice précedente "
   ]
  },
  {
   "cell_type": "code",
   "execution_count": 65,
   "metadata": {},
   "outputs": [],
   "source": [
    "#from sklearn.decomposition import LatentDirichletAllocation\n",
    "# Créer le modèle LDA\n",
    "#lda = LatentDirichletAllocation(2, max_iter=100, random_state=42)\n",
    "#dt_matrix = lda.fit_transform(tv_matrix)\n",
    "#features = pd.DataFrame(dt_matrix, colums=['T1'])\n",
    "#features"
   ]
  },
  {
   "cell_type": "code",
   "execution_count": 200,
   "metadata": {},
   "outputs": [
    {
     "data": {
      "text/html": [
       "<style>#sk-container-id-27 {color: black;background-color: white;}#sk-container-id-27 pre{padding: 0;}#sk-container-id-27 div.sk-toggleable {background-color: white;}#sk-container-id-27 label.sk-toggleable__label {cursor: pointer;display: block;width: 100%;margin-bottom: 0;padding: 0.3em;box-sizing: border-box;text-align: center;}#sk-container-id-27 label.sk-toggleable__label-arrow:before {content: \"▸\";float: left;margin-right: 0.25em;color: #696969;}#sk-container-id-27 label.sk-toggleable__label-arrow:hover:before {color: black;}#sk-container-id-27 div.sk-estimator:hover label.sk-toggleable__label-arrow:before {color: black;}#sk-container-id-27 div.sk-toggleable__content {max-height: 0;max-width: 0;overflow: hidden;text-align: left;background-color: #f0f8ff;}#sk-container-id-27 div.sk-toggleable__content pre {margin: 0.2em;color: black;border-radius: 0.25em;background-color: #f0f8ff;}#sk-container-id-27 input.sk-toggleable__control:checked~div.sk-toggleable__content {max-height: 200px;max-width: 100%;overflow: auto;}#sk-container-id-27 input.sk-toggleable__control:checked~label.sk-toggleable__label-arrow:before {content: \"▾\";}#sk-container-id-27 div.sk-estimator input.sk-toggleable__control:checked~label.sk-toggleable__label {background-color: #d4ebff;}#sk-container-id-27 div.sk-label input.sk-toggleable__control:checked~label.sk-toggleable__label {background-color: #d4ebff;}#sk-container-id-27 input.sk-hidden--visually {border: 0;clip: rect(1px 1px 1px 1px);clip: rect(1px, 1px, 1px, 1px);height: 1px;margin: -1px;overflow: hidden;padding: 0;position: absolute;width: 1px;}#sk-container-id-27 div.sk-estimator {font-family: monospace;background-color: #f0f8ff;border: 1px dotted black;border-radius: 0.25em;box-sizing: border-box;margin-bottom: 0.5em;}#sk-container-id-27 div.sk-estimator:hover {background-color: #d4ebff;}#sk-container-id-27 div.sk-parallel-item::after {content: \"\";width: 100%;border-bottom: 1px solid gray;flex-grow: 1;}#sk-container-id-27 div.sk-label:hover label.sk-toggleable__label {background-color: #d4ebff;}#sk-container-id-27 div.sk-serial::before {content: \"\";position: absolute;border-left: 1px solid gray;box-sizing: border-box;top: 0;bottom: 0;left: 50%;z-index: 0;}#sk-container-id-27 div.sk-serial {display: flex;flex-direction: column;align-items: center;background-color: white;padding-right: 0.2em;padding-left: 0.2em;position: relative;}#sk-container-id-27 div.sk-item {position: relative;z-index: 1;}#sk-container-id-27 div.sk-parallel {display: flex;align-items: stretch;justify-content: center;background-color: white;position: relative;}#sk-container-id-27 div.sk-item::before, #sk-container-id-27 div.sk-parallel-item::before {content: \"\";position: absolute;border-left: 1px solid gray;box-sizing: border-box;top: 0;bottom: 0;left: 50%;z-index: -1;}#sk-container-id-27 div.sk-parallel-item {display: flex;flex-direction: column;z-index: 1;position: relative;background-color: white;}#sk-container-id-27 div.sk-parallel-item:first-child::after {align-self: flex-end;width: 50%;}#sk-container-id-27 div.sk-parallel-item:last-child::after {align-self: flex-start;width: 50%;}#sk-container-id-27 div.sk-parallel-item:only-child::after {width: 0;}#sk-container-id-27 div.sk-dashed-wrapped {border: 1px dashed gray;margin: 0 0.4em 0.5em 0.4em;box-sizing: border-box;padding-bottom: 0.4em;background-color: white;}#sk-container-id-27 div.sk-label label {font-family: monospace;font-weight: bold;display: inline-block;line-height: 1.2em;}#sk-container-id-27 div.sk-label-container {text-align: center;}#sk-container-id-27 div.sk-container {/* jupyter's `normalize.less` sets `[hidden] { display: none; }` but bootstrap.min.css set `[hidden] { display: none !important; }` so we also need the `!important` here to be able to override the default hidden behavior on the sphinx rendered scikit-learn.org. See: https://github.com/scikit-learn/scikit-learn/issues/21755 */display: inline-block !important;position: relative;}#sk-container-id-27 div.sk-text-repr-fallback {display: none;}</style><div id=\"sk-container-id-27\" class=\"sk-top-container\"><div class=\"sk-text-repr-fallback\"><pre>DataFrameMapper(drop_cols=[],\n",
       "                features=[(&#x27;cv&#x27;, LabelEncoder()),\n",
       "                          (&#x27;cv&#x27;, TfidfVectorizer(min_df=0.0))])</pre><b>In a Jupyter environment, please rerun this cell to show the HTML representation or trust the notebook. <br />On GitHub, the HTML representation is unable to render, please try loading this page with nbviewer.org.</b></div><div class=\"sk-container\" hidden><div class=\"sk-item\"><div class=\"sk-estimator sk-toggleable\"><input class=\"sk-toggleable__control sk-hidden--visually\" id=\"sk-estimator-id-27\" type=\"checkbox\" checked><label for=\"sk-estimator-id-27\" class=\"sk-toggleable__label sk-toggleable__label-arrow\">DataFrameMapper</label><div class=\"sk-toggleable__content\"><pre>DataFrameMapper(drop_cols=[],\n",
       "                features=[(&#x27;cv&#x27;, LabelEncoder()),\n",
       "                          (&#x27;cv&#x27;, TfidfVectorizer(min_df=0.0))])</pre></div></div></div></div></div>"
      ],
      "text/plain": [
       "DataFrameMapper(drop_cols=[],\n",
       "                features=[('cv', LabelEncoder()),\n",
       "                          ('cv', TfidfVectorizer(min_df=0.0))])"
      ]
     },
     "execution_count": 200,
     "metadata": {},
     "output_type": "execute_result"
    }
   ],
   "source": [
    "# Avec transformation countVectorze pour convertir  nos textes en chiffreet obtenir une matrice numirisé \n",
    "from sklearn.preprocessing import LabelEncoder\n",
    "from sklearn.feature_extraction.text import CountVectorizer\n",
    "mapper = DataFrameMapper([\n",
    "                          ('cv',LabelEncoder()),\n",
    "                          ('cv',TfidfVectorizer(min_df=0., max_df=1., use_idf=True)),\n",
    "                        \n",
    "                         ])\n",
    "mapper"
   ]
  },
  {
   "cell_type": "code",
   "execution_count": 278,
   "metadata": {},
   "outputs": [],
   "source": [
    "from sklearn import pipeline\n",
    "from sklearn.ensemble  import RandomForestClassifier\n",
    "seed = 0\n",
    "pipe = pipeline.Pipeline([('mapper',mapper),\n",
    "                     ('model',RandomForestClassifier(random_state = seed)),\n",
    "                     ])"
   ]
  },
  {
   "cell_type": "markdown",
   "metadata": {},
   "source": [
    "## Découpage"
   ]
  },
  {
   "cell_type": "markdown",
   "metadata": {},
   "source": [
    "RandomForestClassifier"
   ]
  },
  {
   "cell_type": "code",
   "execution_count": 282,
   "metadata": {},
   "outputs": [
    {
     "ename": "KeyError",
     "evalue": "'cv'",
     "output_type": "error",
     "traceback": [
      "\u001b[1;31m---------------------------------------------------------------------------\u001b[0m",
      "\u001b[1;31mKeyError\u001b[0m                                  Traceback (most recent call last)",
      "File \u001b[1;32m~\\anaconda3\\envs\\M2BI\\lib\\site-packages\\pandas\\core\\indexes\\base.py:3800\u001b[0m, in \u001b[0;36mIndex.get_loc\u001b[1;34m(self, key, method, tolerance)\u001b[0m\n\u001b[0;32m   3799\u001b[0m \u001b[38;5;28;01mtry\u001b[39;00m:\n\u001b[1;32m-> 3800\u001b[0m     \u001b[38;5;28;01mreturn\u001b[39;00m \u001b[38;5;28;43mself\u001b[39;49m\u001b[38;5;241;43m.\u001b[39;49m\u001b[43m_engine\u001b[49m\u001b[38;5;241;43m.\u001b[39;49m\u001b[43mget_loc\u001b[49m\u001b[43m(\u001b[49m\u001b[43mcasted_key\u001b[49m\u001b[43m)\u001b[49m\n\u001b[0;32m   3801\u001b[0m \u001b[38;5;28;01mexcept\u001b[39;00m \u001b[38;5;167;01mKeyError\u001b[39;00m \u001b[38;5;28;01mas\u001b[39;00m err:\n",
      "File \u001b[1;32m~\\anaconda3\\envs\\M2BI\\lib\\site-packages\\pandas\\_libs\\index.pyx:138\u001b[0m, in \u001b[0;36mpandas._libs.index.IndexEngine.get_loc\u001b[1;34m()\u001b[0m\n",
      "File \u001b[1;32m~\\anaconda3\\envs\\M2BI\\lib\\site-packages\\pandas\\_libs\\index.pyx:146\u001b[0m, in \u001b[0;36mpandas._libs.index.IndexEngine.get_loc\u001b[1;34m()\u001b[0m\n",
      "File \u001b[1;32mpandas\\_libs\\index_class_helper.pxi:49\u001b[0m, in \u001b[0;36mpandas._libs.index.Int64Engine._check_type\u001b[1;34m()\u001b[0m\n",
      "\u001b[1;31mKeyError\u001b[0m: 'cv'",
      "\nThe above exception was the direct cause of the following exception:\n",
      "\u001b[1;31mKeyError\u001b[0m                                  Traceback (most recent call last)",
      "Input \u001b[1;32mIn [282]\u001b[0m, in \u001b[0;36m<cell line: 6>\u001b[1;34m()\u001b[0m\n\u001b[0;32m      2\u001b[0m seed \u001b[38;5;241m=\u001b[39m \u001b[38;5;241m0\u001b[39m\n\u001b[0;32m      3\u001b[0m model \u001b[38;5;241m=\u001b[39m make_pipeline([(\u001b[38;5;124m'\u001b[39m\u001b[38;5;124mmapper\u001b[39m\u001b[38;5;124m'\u001b[39m,mapper),\n\u001b[0;32m      4\u001b[0m                      (\u001b[38;5;124m'\u001b[39m\u001b[38;5;124mmodel\u001b[39m\u001b[38;5;124m'\u001b[39m,RandomForestClassifier(random_state \u001b[38;5;241m=\u001b[39m seed))\n\u001b[0;32m      5\u001b[0m                      ])\n\u001b[1;32m----> 6\u001b[0m pipe_fitted \u001b[38;5;241m=\u001b[39m \u001b[43mpipe\u001b[49m\u001b[38;5;241;43m.\u001b[39;49m\u001b[43mfit\u001b[49m\u001b[43m(\u001b[49m\u001b[43mX_train\u001b[49m\u001b[43m,\u001b[49m\u001b[43my_train\u001b[49m\u001b[43m)\u001b[49m\n\u001b[0;32m      7\u001b[0m \u001b[38;5;28mprint\u001b[39m(pipe_fitted)\n",
      "File \u001b[1;32m~\\anaconda3\\envs\\M2BI\\lib\\site-packages\\sklearn\\pipeline.py:378\u001b[0m, in \u001b[0;36mPipeline.fit\u001b[1;34m(self, X, y, **fit_params)\u001b[0m\n\u001b[0;32m    352\u001b[0m \u001b[38;5;124;03m\"\"\"Fit the model.\u001b[39;00m\n\u001b[0;32m    353\u001b[0m \n\u001b[0;32m    354\u001b[0m \u001b[38;5;124;03mFit all the transformers one after the other and transform the\u001b[39;00m\n\u001b[1;32m   (...)\u001b[0m\n\u001b[0;32m    375\u001b[0m \u001b[38;5;124;03m    Pipeline with fitted steps.\u001b[39;00m\n\u001b[0;32m    376\u001b[0m \u001b[38;5;124;03m\"\"\"\u001b[39;00m\n\u001b[0;32m    377\u001b[0m fit_params_steps \u001b[38;5;241m=\u001b[39m \u001b[38;5;28mself\u001b[39m\u001b[38;5;241m.\u001b[39m_check_fit_params(\u001b[38;5;241m*\u001b[39m\u001b[38;5;241m*\u001b[39mfit_params)\n\u001b[1;32m--> 378\u001b[0m Xt \u001b[38;5;241m=\u001b[39m \u001b[38;5;28mself\u001b[39m\u001b[38;5;241m.\u001b[39m_fit(X, y, \u001b[38;5;241m*\u001b[39m\u001b[38;5;241m*\u001b[39mfit_params_steps)\n\u001b[0;32m    379\u001b[0m \u001b[38;5;28;01mwith\u001b[39;00m _print_elapsed_time(\u001b[38;5;124m\"\u001b[39m\u001b[38;5;124mPipeline\u001b[39m\u001b[38;5;124m\"\u001b[39m, \u001b[38;5;28mself\u001b[39m\u001b[38;5;241m.\u001b[39m_log_message(\u001b[38;5;28mlen\u001b[39m(\u001b[38;5;28mself\u001b[39m\u001b[38;5;241m.\u001b[39msteps) \u001b[38;5;241m-\u001b[39m \u001b[38;5;241m1\u001b[39m)):\n\u001b[0;32m    380\u001b[0m     \u001b[38;5;28;01mif\u001b[39;00m \u001b[38;5;28mself\u001b[39m\u001b[38;5;241m.\u001b[39m_final_estimator \u001b[38;5;241m!=\u001b[39m \u001b[38;5;124m\"\u001b[39m\u001b[38;5;124mpassthrough\u001b[39m\u001b[38;5;124m\"\u001b[39m:\n",
      "File \u001b[1;32m~\\anaconda3\\envs\\M2BI\\lib\\site-packages\\sklearn\\pipeline.py:336\u001b[0m, in \u001b[0;36mPipeline._fit\u001b[1;34m(self, X, y, **fit_params_steps)\u001b[0m\n\u001b[0;32m    334\u001b[0m     cloned_transformer \u001b[38;5;241m=\u001b[39m clone(transformer)\n\u001b[0;32m    335\u001b[0m \u001b[38;5;66;03m# Fit or load from cache the current transformer\u001b[39;00m\n\u001b[1;32m--> 336\u001b[0m X, fitted_transformer \u001b[38;5;241m=\u001b[39m fit_transform_one_cached(\n\u001b[0;32m    337\u001b[0m     cloned_transformer,\n\u001b[0;32m    338\u001b[0m     X,\n\u001b[0;32m    339\u001b[0m     y,\n\u001b[0;32m    340\u001b[0m     \u001b[38;5;28;01mNone\u001b[39;00m,\n\u001b[0;32m    341\u001b[0m     message_clsname\u001b[38;5;241m=\u001b[39m\u001b[38;5;124m\"\u001b[39m\u001b[38;5;124mPipeline\u001b[39m\u001b[38;5;124m\"\u001b[39m,\n\u001b[0;32m    342\u001b[0m     message\u001b[38;5;241m=\u001b[39m\u001b[38;5;28mself\u001b[39m\u001b[38;5;241m.\u001b[39m_log_message(step_idx),\n\u001b[0;32m    343\u001b[0m     \u001b[38;5;241m*\u001b[39m\u001b[38;5;241m*\u001b[39mfit_params_steps[name],\n\u001b[0;32m    344\u001b[0m )\n\u001b[0;32m    345\u001b[0m \u001b[38;5;66;03m# Replace the transformer of the step with the fitted\u001b[39;00m\n\u001b[0;32m    346\u001b[0m \u001b[38;5;66;03m# transformer. This is necessary when loading the transformer\u001b[39;00m\n\u001b[0;32m    347\u001b[0m \u001b[38;5;66;03m# from the cache.\u001b[39;00m\n\u001b[0;32m    348\u001b[0m \u001b[38;5;28mself\u001b[39m\u001b[38;5;241m.\u001b[39msteps[step_idx] \u001b[38;5;241m=\u001b[39m (name, fitted_transformer)\n",
      "File \u001b[1;32m~\\anaconda3\\envs\\M2BI\\lib\\site-packages\\joblib\\memory.py:349\u001b[0m, in \u001b[0;36mNotMemorizedFunc.__call__\u001b[1;34m(self, *args, **kwargs)\u001b[0m\n\u001b[0;32m    348\u001b[0m \u001b[38;5;28;01mdef\u001b[39;00m \u001b[38;5;21m__call__\u001b[39m(\u001b[38;5;28mself\u001b[39m, \u001b[38;5;241m*\u001b[39margs, \u001b[38;5;241m*\u001b[39m\u001b[38;5;241m*\u001b[39mkwargs):\n\u001b[1;32m--> 349\u001b[0m     \u001b[38;5;28;01mreturn\u001b[39;00m \u001b[38;5;28mself\u001b[39m\u001b[38;5;241m.\u001b[39mfunc(\u001b[38;5;241m*\u001b[39margs, \u001b[38;5;241m*\u001b[39m\u001b[38;5;241m*\u001b[39mkwargs)\n",
      "File \u001b[1;32m~\\anaconda3\\envs\\M2BI\\lib\\site-packages\\sklearn\\pipeline.py:870\u001b[0m, in \u001b[0;36m_fit_transform_one\u001b[1;34m(transformer, X, y, weight, message_clsname, message, **fit_params)\u001b[0m\n\u001b[0;32m    868\u001b[0m \u001b[38;5;28;01mwith\u001b[39;00m _print_elapsed_time(message_clsname, message):\n\u001b[0;32m    869\u001b[0m     \u001b[38;5;28;01mif\u001b[39;00m \u001b[38;5;28mhasattr\u001b[39m(transformer, \u001b[38;5;124m\"\u001b[39m\u001b[38;5;124mfit_transform\u001b[39m\u001b[38;5;124m\"\u001b[39m):\n\u001b[1;32m--> 870\u001b[0m         res \u001b[38;5;241m=\u001b[39m transformer\u001b[38;5;241m.\u001b[39mfit_transform(X, y, \u001b[38;5;241m*\u001b[39m\u001b[38;5;241m*\u001b[39mfit_params)\n\u001b[0;32m    871\u001b[0m     \u001b[38;5;28;01melse\u001b[39;00m:\n\u001b[0;32m    872\u001b[0m         res \u001b[38;5;241m=\u001b[39m transformer\u001b[38;5;241m.\u001b[39mfit(X, y, \u001b[38;5;241m*\u001b[39m\u001b[38;5;241m*\u001b[39mfit_params)\u001b[38;5;241m.\u001b[39mtransform(X)\n",
      "File \u001b[1;32m~\\anaconda3\\envs\\M2BI\\lib\\site-packages\\sklearn_pandas\\dataframe_mapper.py:443\u001b[0m, in \u001b[0;36mDataFrameMapper.fit_transform\u001b[1;34m(self, X, y)\u001b[0m\n\u001b[0;32m    434\u001b[0m \u001b[38;5;28;01mdef\u001b[39;00m \u001b[38;5;21mfit_transform\u001b[39m(\u001b[38;5;28mself\u001b[39m, X, y\u001b[38;5;241m=\u001b[39m\u001b[38;5;28;01mNone\u001b[39;00m):\n\u001b[0;32m    435\u001b[0m     \u001b[38;5;124;03m\"\"\"\u001b[39;00m\n\u001b[0;32m    436\u001b[0m \u001b[38;5;124;03m    Fit a transformation from the pipeline and directly apply\u001b[39;00m\n\u001b[0;32m    437\u001b[0m \u001b[38;5;124;03m    it to the given data.\u001b[39;00m\n\u001b[1;32m   (...)\u001b[0m\n\u001b[0;32m    441\u001b[0m \u001b[38;5;124;03m    y       the target vector relative to X, optional\u001b[39;00m\n\u001b[0;32m    442\u001b[0m \u001b[38;5;124;03m    \"\"\"\u001b[39;00m\n\u001b[1;32m--> 443\u001b[0m     \u001b[38;5;28;01mreturn\u001b[39;00m \u001b[38;5;28;43mself\u001b[39;49m\u001b[38;5;241;43m.\u001b[39;49m\u001b[43m_transform\u001b[49m\u001b[43m(\u001b[49m\u001b[43mX\u001b[49m\u001b[43m,\u001b[49m\u001b[43m \u001b[49m\u001b[43my\u001b[49m\u001b[43m,\u001b[49m\u001b[43m \u001b[49m\u001b[38;5;28;43;01mTrue\u001b[39;49;00m\u001b[43m)\u001b[49m\n",
      "File \u001b[1;32m~\\anaconda3\\envs\\M2BI\\lib\\site-packages\\sklearn_pandas\\dataframe_mapper.py:336\u001b[0m, in \u001b[0;36mDataFrameMapper._transform\u001b[1;34m(self, X, y, do_fit)\u001b[0m\n\u001b[0;32m    331\u001b[0m input_df \u001b[38;5;241m=\u001b[39m options\u001b[38;5;241m.\u001b[39mget(\u001b[38;5;124m'\u001b[39m\u001b[38;5;124minput_df\u001b[39m\u001b[38;5;124m'\u001b[39m, \u001b[38;5;28mself\u001b[39m\u001b[38;5;241m.\u001b[39minput_df)\n\u001b[0;32m    333\u001b[0m \u001b[38;5;66;03m# columns could be a string or list of\u001b[39;00m\n\u001b[0;32m    334\u001b[0m \u001b[38;5;66;03m# strings; we don't care because pandas\u001b[39;00m\n\u001b[0;32m    335\u001b[0m \u001b[38;5;66;03m# will handle either.\u001b[39;00m\n\u001b[1;32m--> 336\u001b[0m Xt \u001b[38;5;241m=\u001b[39m \u001b[38;5;28;43mself\u001b[39;49m\u001b[38;5;241;43m.\u001b[39;49m\u001b[43m_get_col_subset\u001b[49m\u001b[43m(\u001b[49m\u001b[43mX\u001b[49m\u001b[43m,\u001b[49m\u001b[43m \u001b[49m\u001b[43mcolumns\u001b[49m\u001b[43m,\u001b[49m\u001b[43m \u001b[49m\u001b[43minput_df\u001b[49m\u001b[43m)\u001b[49m\n\u001b[0;32m    338\u001b[0m \u001b[38;5;28;01mif\u001b[39;00m transformers \u001b[38;5;129;01mis\u001b[39;00m \u001b[38;5;129;01mnot\u001b[39;00m \u001b[38;5;28;01mNone\u001b[39;00m:\n\u001b[0;32m    339\u001b[0m     \u001b[38;5;28;01mwith\u001b[39;00m add_column_names_to_exception(columns):\n",
      "File \u001b[1;32m~\\anaconda3\\envs\\M2BI\\lib\\site-packages\\sklearn_pandas\\dataframe_mapper.py:218\u001b[0m, in \u001b[0;36mDataFrameMapper._get_col_subset\u001b[1;34m(self, X, cols, input_df)\u001b[0m\n\u001b[0;32m    215\u001b[0m     X \u001b[38;5;241m=\u001b[39m X\u001b[38;5;241m.\u001b[39mdf  \u001b[38;5;66;03m# fetch underlying data\u001b[39;00m\n\u001b[0;32m    217\u001b[0m \u001b[38;5;28;01mif\u001b[39;00m return_vector:\n\u001b[1;32m--> 218\u001b[0m     t \u001b[38;5;241m=\u001b[39m \u001b[43mX\u001b[49m\u001b[43m[\u001b[49m\u001b[43mcols\u001b[49m\u001b[43m[\u001b[49m\u001b[38;5;241;43m0\u001b[39;49m\u001b[43m]\u001b[49m\u001b[43m]\u001b[49m\n\u001b[0;32m    219\u001b[0m \u001b[38;5;28;01melse\u001b[39;00m:\n\u001b[0;32m    220\u001b[0m     t \u001b[38;5;241m=\u001b[39m X[cols]\n",
      "File \u001b[1;32m~\\anaconda3\\envs\\M2BI\\lib\\site-packages\\pandas\\core\\series.py:982\u001b[0m, in \u001b[0;36mSeries.__getitem__\u001b[1;34m(self, key)\u001b[0m\n\u001b[0;32m    979\u001b[0m     \u001b[38;5;28;01mreturn\u001b[39;00m \u001b[38;5;28mself\u001b[39m\u001b[38;5;241m.\u001b[39m_values[key]\n\u001b[0;32m    981\u001b[0m \u001b[38;5;28;01melif\u001b[39;00m key_is_scalar:\n\u001b[1;32m--> 982\u001b[0m     \u001b[38;5;28;01mreturn\u001b[39;00m \u001b[38;5;28;43mself\u001b[39;49m\u001b[38;5;241;43m.\u001b[39;49m\u001b[43m_get_value\u001b[49m\u001b[43m(\u001b[49m\u001b[43mkey\u001b[49m\u001b[43m)\u001b[49m\n\u001b[0;32m    984\u001b[0m \u001b[38;5;28;01mif\u001b[39;00m is_hashable(key):\n\u001b[0;32m    985\u001b[0m     \u001b[38;5;66;03m# Otherwise index.get_value will raise InvalidIndexError\u001b[39;00m\n\u001b[0;32m    986\u001b[0m     \u001b[38;5;28;01mtry\u001b[39;00m:\n\u001b[0;32m    987\u001b[0m         \u001b[38;5;66;03m# For labels that don't resolve as scalars like tuples and frozensets\u001b[39;00m\n",
      "File \u001b[1;32m~\\anaconda3\\envs\\M2BI\\lib\\site-packages\\pandas\\core\\series.py:1092\u001b[0m, in \u001b[0;36mSeries._get_value\u001b[1;34m(self, label, takeable)\u001b[0m\n\u001b[0;32m   1089\u001b[0m     \u001b[38;5;28;01mreturn\u001b[39;00m \u001b[38;5;28mself\u001b[39m\u001b[38;5;241m.\u001b[39m_values[label]\n\u001b[0;32m   1091\u001b[0m \u001b[38;5;66;03m# Similar to Index.get_value, but we do not fall back to positional\u001b[39;00m\n\u001b[1;32m-> 1092\u001b[0m loc \u001b[38;5;241m=\u001b[39m \u001b[38;5;28;43mself\u001b[39;49m\u001b[38;5;241;43m.\u001b[39;49m\u001b[43mindex\u001b[49m\u001b[38;5;241;43m.\u001b[39;49m\u001b[43mget_loc\u001b[49m\u001b[43m(\u001b[49m\u001b[43mlabel\u001b[49m\u001b[43m)\u001b[49m\n\u001b[0;32m   1093\u001b[0m \u001b[38;5;28;01mreturn\u001b[39;00m \u001b[38;5;28mself\u001b[39m\u001b[38;5;241m.\u001b[39mindex\u001b[38;5;241m.\u001b[39m_get_values_for_loc(\u001b[38;5;28mself\u001b[39m, loc, label)\n",
      "File \u001b[1;32m~\\anaconda3\\envs\\M2BI\\lib\\site-packages\\pandas\\core\\indexes\\base.py:3802\u001b[0m, in \u001b[0;36mIndex.get_loc\u001b[1;34m(self, key, method, tolerance)\u001b[0m\n\u001b[0;32m   3800\u001b[0m     \u001b[38;5;28;01mreturn\u001b[39;00m \u001b[38;5;28mself\u001b[39m\u001b[38;5;241m.\u001b[39m_engine\u001b[38;5;241m.\u001b[39mget_loc(casted_key)\n\u001b[0;32m   3801\u001b[0m \u001b[38;5;28;01mexcept\u001b[39;00m \u001b[38;5;167;01mKeyError\u001b[39;00m \u001b[38;5;28;01mas\u001b[39;00m err:\n\u001b[1;32m-> 3802\u001b[0m     \u001b[38;5;28;01mraise\u001b[39;00m \u001b[38;5;167;01mKeyError\u001b[39;00m(key) \u001b[38;5;28;01mfrom\u001b[39;00m \u001b[38;5;21;01merr\u001b[39;00m\n\u001b[0;32m   3803\u001b[0m \u001b[38;5;28;01mexcept\u001b[39;00m \u001b[38;5;167;01mTypeError\u001b[39;00m:\n\u001b[0;32m   3804\u001b[0m     \u001b[38;5;66;03m# If we have a listlike key, _check_indexing_error will raise\u001b[39;00m\n\u001b[0;32m   3805\u001b[0m     \u001b[38;5;66;03m#  InvalidIndexError. Otherwise we fall through and re-raise\u001b[39;00m\n\u001b[0;32m   3806\u001b[0m     \u001b[38;5;66;03m#  the TypeError.\u001b[39;00m\n\u001b[0;32m   3807\u001b[0m     \u001b[38;5;28mself\u001b[39m\u001b[38;5;241m.\u001b[39m_check_indexing_error(key)\n",
      "\u001b[1;31mKeyError\u001b[0m: 'cv'"
     ]
    }
   ],
   "source": [
    "from sklearn.feature_extraction.text import CountVectorizer\n",
    "from sklearn.feature_extraction.text import TfidfVectorizer\n",
    "from sklearn import pipeline\n",
    "from sklearn.ensemble  import RandomForestClassifier\n",
    "seed = 0\n",
    "pipe = pipeline.Pipeline([('mapper',mapper),\n",
    "                     ('model',RandomForestClassifier(random_state = seed))\n",
    "                     ])\n",
    "pipe_fitted = pipe.fit(X_train,y_train)\n",
    "print(pipe_fitted)"
   ]
  },
  {
   "cell_type": "code",
   "execution_count": 275,
   "metadata": {},
   "outputs": [
    {
     "data": {
      "text/plain": [
       "0.5764895330112721"
      ]
     },
     "execution_count": 275,
     "metadata": {},
     "output_type": "execute_result"
    }
   ],
   "source": [
    "pipe_fitted.score(X_test,y_test)"
   ]
  },
  {
   "cell_type": "code",
   "execution_count": 276,
   "metadata": {},
   "outputs": [
    {
     "name": "stdout",
     "output_type": "stream",
     "text": [
      "                        precision    recall  f1-score   support\n",
      "\n",
      "            ACCOUNTANT       0.49      0.93      0.64        29\n",
      "              ADVOCATE       0.62      0.48      0.54        27\n",
      "           AGRICULTURE       0.71      0.36      0.48        14\n",
      "               APPAREL       0.58      0.39      0.47        18\n",
      "                  ARTS       0.38      0.10      0.15        31\n",
      "            AUTOMOBILE       0.50      0.17      0.25         6\n",
      "              AVIATION       0.60      0.81      0.68        31\n",
      "               BANKING       0.76      0.53      0.63        30\n",
      "                   BPO       0.00      0.00      0.00         4\n",
      "  BUSINESS-DEVELOPMENT       0.47      0.48      0.48        31\n",
      "                  CHEF       0.81      0.90      0.85        42\n",
      "          CONSTRUCTION       0.53      0.69      0.60        26\n",
      "            CONSULTANT       0.50      0.03      0.06        29\n",
      "              DESIGNER       0.50      0.62      0.56        16\n",
      "         DIGITAL-MEDIA       0.50      0.62      0.55        21\n",
      "           ENGINEERING       0.63      0.52      0.57        33\n",
      "               FINANCE       0.64      0.32      0.43        28\n",
      "               FITNESS       0.75      0.53      0.62        40\n",
      "            HEALTHCARE       0.41      0.64      0.50        25\n",
      "                    HR       0.62      0.91      0.74        22\n",
      "INFORMATION-TECHNOLOGY       0.56      0.80      0.66        30\n",
      "      PUBLIC-RELATIONS       0.63      0.71      0.67        24\n",
      "                 SALES       0.33      0.42      0.37        31\n",
      "               TEACHER       0.67      0.88      0.76        33\n",
      "\n",
      "              accuracy                           0.58       621\n",
      "             macro avg       0.55      0.53      0.51       621\n",
      "          weighted avg       0.58      0.58      0.55       621\n",
      "\n"
     ]
    },
    {
     "name": "stderr",
     "output_type": "stream",
     "text": [
      "C:\\Users\\hp\\anaconda3\\envs\\M2BI\\lib\\site-packages\\sklearn\\metrics\\_classification.py:1334: UndefinedMetricWarning: Precision and F-score are ill-defined and being set to 0.0 in labels with no predicted samples. Use `zero_division` parameter to control this behavior.\n",
      "  _warn_prf(average, modifier, msg_start, len(result))\n",
      "C:\\Users\\hp\\anaconda3\\envs\\M2BI\\lib\\site-packages\\sklearn\\metrics\\_classification.py:1334: UndefinedMetricWarning: Precision and F-score are ill-defined and being set to 0.0 in labels with no predicted samples. Use `zero_division` parameter to control this behavior.\n",
      "  _warn_prf(average, modifier, msg_start, len(result))\n",
      "C:\\Users\\hp\\anaconda3\\envs\\M2BI\\lib\\site-packages\\sklearn\\metrics\\_classification.py:1334: UndefinedMetricWarning: Precision and F-score are ill-defined and being set to 0.0 in labels with no predicted samples. Use `zero_division` parameter to control this behavior.\n",
      "  _warn_prf(average, modifier, msg_start, len(result))\n"
     ]
    }
   ],
   "source": [
    "#Rapport de classification \n",
    "print(classification_report(y_test, pipe_fitted.predict(X_test)))"
   ]
  },
  {
   "cell_type": "markdown",
   "metadata": {
    "id": "UL4uNcvQ69Xy"
   },
   "source": [
    "## Sérialisation\n",
    "Pour pouvoir bien intégrer notre modèle aux interfaces, nous devons l'exporter."
   ]
  },
  {
   "cell_type": "code",
   "execution_count": 259,
   "metadata": {},
   "outputs": [
    {
     "data": {
      "text/plain": [
       "['classifiers.pkl']"
      ]
     },
     "execution_count": 259,
     "metadata": {},
     "output_type": "execute_result"
    }
   ],
   "source": [
    "# Enregistrement du model \n",
    "import joblib \n",
    "joblib.dump(n_bmodel, './modele/cv_classifier.pkl')"
   ]
  },
  {
   "cell_type": "code",
   "execution_count": 266,
   "metadata": {},
   "outputs": [],
   "source": []
  },
  {
   "cell_type": "markdown",
   "metadata": {},
   "source": [
    "NB: Pour de nouveaux exemples, penser à les suivres toutes les étapes. (conversion, prétraitement, vectorisation, etc...)"
   ]
  },
  {
   "cell_type": "markdown",
   "metadata": {},
   "source": [
    "## Conclusion\n",
    "A vous de jouer;\n",
    "Construisez le meilleur modèle possible et intégrer le à vos interfaces graphique (Tkinter, django, dash, flask, etc...).\n",
    "Bonne chance à tous et toutes."
   ]
  }
 ],
 "metadata": {
  "colab": {
   "name": "Tp18 : Starter Notebook.ipynb",
   "provenance": []
  },
  "kernelspec": {
   "display_name": "Python 3 (ipykernel)",
   "language": "python",
   "name": "python3"
  },
  "language_info": {
   "codemirror_mode": {
    "name": "ipython",
    "version": 3
   },
   "file_extension": ".py",
   "mimetype": "text/x-python",
   "name": "python",
   "nbconvert_exporter": "python",
   "pygments_lexer": "ipython3",
   "version": "3.9.7"
  }
 },
 "nbformat": 4,
 "nbformat_minor": 4
}
