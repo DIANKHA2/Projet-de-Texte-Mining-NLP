{
 "cells": [
  {
   "cell_type": "markdown",
   "metadata": {
    "id": "VgQoJQNeksCF"
   },
   "source": [
    "# Projet : Concevoir et implémenter un système de filtrage de cv\n",
    "Présenté par : Abdoulaye DIANKHA M2BI"
   ]
  },
  {
   "cell_type": "code",
   "execution_count": 1,
   "metadata": {
    "id": "r3Ys8I9P8Ber"
   },
   "outputs": [],
   "source": [
    "import os\n",
    "import re\n",
    "import numpy as np\n",
    "import pandas as pd\n",
    "import PyPDF2\n",
    "import nltk\n",
    "#nltk.download('punkt')\n",
    "from nltk import SnowballStemmer\n",
    "from nltk import word_tokenize\n",
    "from nltk.corpus import stopwords\n",
    "from sklearn.feature_extraction import text\n",
    "from sklearn.feature_extraction.text import TfidfVectorizer\n",
    "#Pour traiter tout ce qui contient du html dans le texte\n",
    "from bs4 import BeautifulSoup\n",
    "# Partitionnement du jeu de données\n",
    "from sklearn.model_selection import train_test_split\n",
    "# Graphiques\n",
    "from matplotlib import pyplot as plt\n",
    "import seaborn as sns\n",
    "from sklearn_pandas import DataFrameMapper\n",
    "from sklearn.metrics  import classification_report\n",
    "from sklearn.pipeline import make_pipeline\n",
    "from tqdm import tqdm \n",
    "from PIL import Image\n",
    "import sys\n",
    "from imblearn import over_sampling"
   ]
  },
  {
   "cell_type": "markdown",
   "metadata": {
    "id": "EZzvYmdN6ZHd"
   },
   "source": [
    "## Importation des données\n",
    "Pour ce faire, nous définissons une mini fonction\n",
    "On parcours le dossier de cvs, on lit chaque cv, on le convertit et on lui attribut sa catégorie..."
   ]
  },
  {
   "cell_type": "code",
   "execution_count": 85,
   "metadata": {},
   "outputs": [],
   "source": [
    "def lit_cvs(chemin=\"\"):\n",
    "    \"\"\"Retourne une liste de tuples (\"cv au format texte\", \"étiquette/classe/catégorie\") contenant le jeu de données\"\"\"\n",
    "    _nb = 0 #On dénombre les fichiers lus\n",
    "    _categories = [_cat for _cat in os.listdir(chemin) if not(_cat.startswith(\"desktop\"))]\n",
    "    print(\"#Total catégories: \", len(_categories))\n",
    "    _cvs = list()\n",
    "    print(\"#Convertion des cvs de chaque catégorie...\")\n",
    "    for _categorie in _categories:\n",
    "        _pdf_cvs= os.listdir(chemin+\"/\"+_categorie)\n",
    "        print(\"Cat {} : {} => {} cvs\".format(_nb, _categorie, len(_pdf_cvs)), end=\" \")\n",
    "        #On convertit chaque pdf\n",
    "        _nb_error = 0\n",
    "        for _pdf_cv in _pdf_cvs:\n",
    "            try:\n",
    "               pdf = PyPDF2.PdfFileReader(open(chemin+\"/\"+_categorie+'/'+_pdf_cv, \"rb\"))\n",
    "            except:\n",
    "                #print(\"error\")\n",
    "                _nb_error+=1\n",
    "                pass\n",
    "            else:\n",
    "                contenu=\"\"\n",
    "                for page in pdf.pages:\n",
    "                    contenu+=page.extractText()\n",
    "                    #print(page.extractText())\n",
    "                _cvs.append((contenu, _categorie,_pdf_cv))\n",
    "        print(\", {} error(s)\".format(_nb_error))\n",
    "        _nb+=1\n",
    "    print(\"#Fin convertion\")\n",
    "    \n",
    "    return _cvs"
   ]
  },
  {
   "cell_type": "markdown",
   "metadata": {},
   "source": [
    "Exécution"
   ]
  },
  {
   "cell_type": "code",
   "execution_count": 86,
   "metadata": {
    "id": "ypN4jEZKkhAc"
   },
   "outputs": [
    {
     "name": "stdout",
     "output_type": "stream",
     "text": [
      "#Total catégories:  24\n",
      "#Convertion des cvs de chaque catégorie...\n",
      "Cat 0 : ACCOUNTANT => 119 cvs , 1 error(s)\n",
      "Cat 1 : ADVOCATE => 119 cvs , 1 error(s)\n",
      "Cat 2 : AGRICULTURE => 64 cvs , 1 error(s)\n",
      "Cat 3 : APPAREL => 98 cvs , 1 error(s)\n",
      "Cat 4 : ARTS => 104 cvs , 1 error(s)\n",
      "Cat 5 : AUTOMOBILE => 37 cvs , 1 error(s)\n",
      "Cat 6 : AVIATION => 118 cvs , 1 error(s)\n",
      "Cat 7 : BANKING => 116 cvs , 1 error(s)\n",
      "Cat 8 : BPO => 23 cvs , 1 error(s)\n",
      "Cat 9 : BUSINESS-DEVELOPMENT => 121 cvs , 1 error(s)\n",
      "Cat 10 : CHEF => 119 cvs , 1 error(s)\n",
      "Cat 11 : CONSTRUCTION => 113 cvs , 1 error(s)\n",
      "Cat 12 : CONSULTANT => 116 cvs , 1 error(s)\n",
      "Cat 13 : DESIGNER => 108 cvs , 1 error(s)\n",
      "Cat 14 : DIGITAL-MEDIA => 97 cvs , 1 error(s)\n",
      "Cat 15 : ENGINEERING => 119 cvs , 1 error(s)\n",
      "Cat 16 : FINANCE => 119 cvs , 1 error(s)\n",
      "Cat 17 : FITNESS => 118 cvs , 1 error(s)\n",
      "Cat 18 : HEALTHCARE => 116 cvs , 1 error(s)\n",
      "Cat 19 : HR => 111 cvs , 1 error(s)\n",
      "Cat 20 : INFORMATION-TECHNOLOGY => 121 cvs , 1 error(s)\n",
      "Cat 21 : PUBLIC-RELATIONS => 112 cvs , 1 error(s)\n",
      "Cat 22 : SALES => 117 cvs , 1 error(s)\n",
      "Cat 23 : TEACHER => 103 cvs , 1 error(s)\n",
      "#Fin convertion\n"
     ]
    }
   ],
   "source": [
    "cvs = lit_cvs(\"./jeu_de_donnees/cv_dataset\")"
   ]
  },
  {
   "cell_type": "markdown",
   "metadata": {},
   "source": [
    "Construction du DataFrame"
   ]
  },
  {
   "cell_type": "code",
   "execution_count": 87,
   "metadata": {},
   "outputs": [
    {
     "data": {
      "text/html": [
       "<div>\n",
       "<style scoped>\n",
       "    .dataframe tbody tr th:only-of-type {\n",
       "        vertical-align: middle;\n",
       "    }\n",
       "\n",
       "    .dataframe tbody tr th {\n",
       "        vertical-align: top;\n",
       "    }\n",
       "\n",
       "    .dataframe thead th {\n",
       "        text-align: right;\n",
       "    }\n",
       "</style>\n",
       "<table border=\"1\" class=\"dataframe\">\n",
       "  <thead>\n",
       "    <tr style=\"text-align: right;\">\n",
       "      <th></th>\n",
       "      <th>cv</th>\n",
       "      <th>categorie</th>\n",
       "      <th>NAME</th>\n",
       "    </tr>\n",
       "  </thead>\n",
       "  <tbody>\n",
       "    <tr>\n",
       "      <th>0</th>\n",
       "      <td>ACCOUNTANTSummary\\nFinancial Accountant specia...</td>\n",
       "      <td>ACCOUNTANT</td>\n",
       "      <td>10554236.pdf</td>\n",
       "    </tr>\n",
       "    <tr>\n",
       "      <th>1</th>\n",
       "      <td>STAFF ACCOUNTANTSummary\\nHighly analytical and...</td>\n",
       "      <td>ACCOUNTANT</td>\n",
       "      <td>10674770.pdf</td>\n",
       "    </tr>\n",
       "    <tr>\n",
       "      <th>2</th>\n",
       "      <td>ACCOUNTANTProfessional Summary\\nTo obtain a po...</td>\n",
       "      <td>ACCOUNTANT</td>\n",
       "      <td>11163645.pdf</td>\n",
       "    </tr>\n",
       "    <tr>\n",
       "      <th>3</th>\n",
       "      <td>SENIOR ACCOUNTANTExperience\\nCompany Name\\n \\n...</td>\n",
       "      <td>ACCOUNTANT</td>\n",
       "      <td>11759079.pdf</td>\n",
       "    </tr>\n",
       "    <tr>\n",
       "      <th>4</th>\n",
       "      <td>SENIOR ACCOUNTANTProfessional Summary\\nSenior ...</td>\n",
       "      <td>ACCOUNTANT</td>\n",
       "      <td>12065211.pdf</td>\n",
       "    </tr>\n",
       "    <tr>\n",
       "      <th>...</th>\n",
       "      <td>...</td>\n",
       "      <td>...</td>\n",
       "      <td>...</td>\n",
       "    </tr>\n",
       "    <tr>\n",
       "      <th>2479</th>\n",
       "      <td>HISTORY TEACHERProfessional Summary\\nTo be emp...</td>\n",
       "      <td>TEACHER</td>\n",
       "      <td>86597425.pdf</td>\n",
       "    </tr>\n",
       "    <tr>\n",
       "      <th>2480</th>\n",
       "      <td>TEACHERSummary\\nHighly ethical, dependable, an...</td>\n",
       "      <td>TEACHER</td>\n",
       "      <td>90363254.pdf</td>\n",
       "    </tr>\n",
       "    <tr>\n",
       "      <th>2481</th>\n",
       "      <td>TEACHERSummary\\nTalented early education profe...</td>\n",
       "      <td>TEACHER</td>\n",
       "      <td>96547039.pdf</td>\n",
       "    </tr>\n",
       "    <tr>\n",
       "      <th>2482</th>\n",
       "      <td>Kpandipou KoffiSummary\\nCompassionate teaching...</td>\n",
       "      <td>TEACHER</td>\n",
       "      <td>99244405.pdf</td>\n",
       "    </tr>\n",
       "    <tr>\n",
       "      <th>2483</th>\n",
       "      <td>TEACHERSummary\\nEducation professional driven ...</td>\n",
       "      <td>TEACHER</td>\n",
       "      <td>cv_type.pdf</td>\n",
       "    </tr>\n",
       "  </tbody>\n",
       "</table>\n",
       "<p>2484 rows × 3 columns</p>\n",
       "</div>"
      ],
      "text/plain": [
       "                                                     cv   categorie  \\\n",
       "0     ACCOUNTANTSummary\\nFinancial Accountant specia...  ACCOUNTANT   \n",
       "1     STAFF ACCOUNTANTSummary\\nHighly analytical and...  ACCOUNTANT   \n",
       "2     ACCOUNTANTProfessional Summary\\nTo obtain a po...  ACCOUNTANT   \n",
       "3     SENIOR ACCOUNTANTExperience\\nCompany Name\\n \\n...  ACCOUNTANT   \n",
       "4     SENIOR ACCOUNTANTProfessional Summary\\nSenior ...  ACCOUNTANT   \n",
       "...                                                 ...         ...   \n",
       "2479  HISTORY TEACHERProfessional Summary\\nTo be emp...     TEACHER   \n",
       "2480  TEACHERSummary\\nHighly ethical, dependable, an...     TEACHER   \n",
       "2481  TEACHERSummary\\nTalented early education profe...     TEACHER   \n",
       "2482  Kpandipou KoffiSummary\\nCompassionate teaching...     TEACHER   \n",
       "2483  TEACHERSummary\\nEducation professional driven ...     TEACHER   \n",
       "\n",
       "              NAME  \n",
       "0     10554236.pdf  \n",
       "1     10674770.pdf  \n",
       "2     11163645.pdf  \n",
       "3     11759079.pdf  \n",
       "4     12065211.pdf  \n",
       "...            ...  \n",
       "2479  86597425.pdf  \n",
       "2480  90363254.pdf  \n",
       "2481  96547039.pdf  \n",
       "2482  99244405.pdf  \n",
       "2483   cv_type.pdf  \n",
       "\n",
       "[2484 rows x 3 columns]"
      ]
     },
     "execution_count": 87,
     "metadata": {},
     "output_type": "execute_result"
    }
   ],
   "source": [
    "data=pd.DataFrame(data=cvs, columns=[\"cv\", \"categorie\", \"NAME\"])\n",
    "data"
   ]
  },
  {
   "cell_type": "raw",
   "metadata": {},
   "source": [
    "Hint: Essayez d'autres bibliothèques (en dehors de PyPDF2)  pour la conversion pdf->texte.\n",
    "Pourquoi pas une bibliothèque qui utilise l'OCR..."
   ]
  },
  {
   "cell_type": "markdown",
   "metadata": {
    "id": "dijcjDEb6ekV"
   },
   "source": [
    "## Quelques prétraitements\n",
    "Comme prétraitement, nous pouvons :\n",
    "   - Supprimer les stopwords associés à la langue\n",
    "   - Supprimer les stopwords associés au jargon des cvs\n",
    "   - Supprimer les ponctuations\n",
    "   - Uniformiser la casse\n",
    "   - Supprimer les caractères spéciaux\n",
    "   - Lemming\n",
    "   - Stemming\n",
    "   - ... Soyez juste créatif :)"
   ]
  },
  {
   "cell_type": "code",
   "execution_count": 7,
   "metadata": {},
   "outputs": [],
   "source": [
    "def clean (text, to_remove, regex_to_remove):\n",
    "    \"\"\"\n",
    "        text: un document = une chaine de caractère\n",
    "        to_remove: liste de mots à enlever\n",
    "        regex_to_remove: une regex expression compilée\n",
    "        \n",
    "        retourne le texte pré-traité\n",
    "    \"\"\"\n",
    "    # On décode tout ce qui est HTML\n",
    "    text = BeautifulSoup(text, \"lxml\").text \n",
    "    # On uniformise la casse de notre document en minuscule\n",
    "    text = text.lower() \n",
    "    #On supprimer tout ce qui est mauvais caractère\n",
    "    text = regex_to_remove.sub(' ', text)\n",
    "    #On supprime la liste de mots to_remove qui peut être la liste des stopwords\n",
    "    text = ' '.join(word for word in text.split() if word not in to_remove)\n",
    "    # On remplace chaque mots par son lemme \n",
    "    WNlemming = nltk.WordNetLemmatizer()\n",
    "    text = \" \".join([WNlemming.lemmatize(mot, pos=\"v\") for mot in nltk.word_tokenize(text)])\n",
    "    # On peut aussi remplacer les mots plutôt par leur racine\n",
    "    porter = nltk.PorterStemmer()\n",
    "    text = \" \".join([porter.stem(mot) for mot in nltk.word_tokenize(text)])\n",
    "    return text"
   ]
  },
  {
   "cell_type": "markdown",
   "metadata": {},
   "source": [
    "Les mots à enlever"
   ]
  },
  {
   "cell_type": "code",
   "execution_count": 8,
   "metadata": {},
   "outputs": [],
   "source": [
    "#Liste des stopwords de la langue anglaise\n",
    "english_stops = list(set(stopwords.words(\"english\")))\n",
    "#On récupère les stopwords liés au jargon des cvs\n",
    "with open(\"./jeu_de_donnees/specific_stopwords.txt\") as fichier:\n",
    "    specific_stops = [stop.strip() for stop in fichier.readlines()]\n",
    "#Liste des stopwords\n",
    "stop_words = english_stops+specific_stops"
   ]
  },
  {
   "cell_type": "markdown",
   "metadata": {},
   "source": [
    "Les mauvais caractères"
   ]
  },
  {
   "cell_type": "code",
   "execution_count": 9,
   "metadata": {},
   "outputs": [],
   "source": [
    "Mauvais_caract = re.compile('[^0-9a-z \\'#+_]')"
   ]
  },
  {
   "cell_type": "code",
   "execution_count": 10,
   "metadata": {},
   "outputs": [],
   "source": [
    "chemin = \"./jeu_de_donnees/cv_dataset\"\n",
    "_categories = [_cat for _cat in os.listdir(chemin) if not(_cat.startswith(\"desktop\"))]"
   ]
  },
  {
   "cell_type": "markdown",
   "metadata": {},
   "source": [
    "Nettoyage"
   ]
  },
  {
   "cell_type": "code",
   "execution_count": 11,
   "metadata": {},
   "outputs": [
    {
     "name": "stdout",
     "output_type": "stream",
     "text": [
      "Nombre de termes avant nettoyage:  14957022 termes\n",
      "-----------------------------------\n",
      "Nombre de termes après nettoyage:  8765790 termes\n"
     ]
    }
   ],
   "source": [
    "#Taille avant nettoyage\n",
    "print(\"Nombre de termes avant nettoyage:  {} termes\".format(len(\" \".join(data.cv))))\n",
    "# Nettoyage\n",
    "data.cv = data.cv.apply(lambda document: clean(document, stop_words, Mauvais_caract))\n",
    "#Taille après nettoyage\n",
    "print(\"-----------------------------------\")\n",
    "print(\"Nombre de termes après nettoyage:  {} termes\".format(len(\" \".join(data.cv))))"
   ]
  },
  {
   "cell_type": "markdown",
   "metadata": {},
   "source": [
    "## Découpage 15% dans le testset et 75% dans le trainset et random_state=0 (on ne contole pas l'aléatoire)"
   ]
  },
  {
   "cell_type": "code",
   "execution_count": 12,
   "metadata": {},
   "outputs": [],
   "source": [
    "X_train, X_test, y_train, y_test = train_test_split(data['cv'], data['categorie'], test_size=0.15, random_state=0)"
   ]
  },
  {
   "cell_type": "markdown",
   "metadata": {},
   "source": [
    "##Transformer"
   ]
  },
  {
   "cell_type": "markdown",
   "metadata": {},
   "source": [
    "## Creation du bag of words (X_vec)\n",
    "## Convertion des cv prétraités en une matrice cv-termes en utilisant l'approche de pondération TF-IDF (tv_matrix_trans)"
   ]
  },
  {
   "cell_type": "code",
   "execution_count": 13,
   "metadata": {},
   "outputs": [],
   "source": [
    "####Tranformer\n",
    "from sklearn.feature_extraction.text import *\n",
    "X_vec= TfidfVectorizer(min_df=0., max_df=1., use_idf=True).fit(X_train)\n",
    "tv_matrix_trans = X_vec.fit_transform(X_train)"
   ]
  },
  {
   "cell_type": "code",
   "execution_count": 14,
   "metadata": {},
   "outputs": [],
   "source": [
    "####Tranformer\n",
    "pipe = make_pipeline(CountVectorizer(binary=True), TfidfTransformer())\n",
    "tv_matrix_trans=pipe.fit_transform(X_train)"
   ]
  },
  {
   "cell_type": "markdown",
   "metadata": {},
   "source": [
    "##Esssayons de voir si nos données d'entrainement  sont équilibré "
   ]
  },
  {
   "cell_type": "code",
   "execution_count": 15,
   "metadata": {},
   "outputs": [
    {
     "data": {
      "text/plain": [
       "INFORMATION-TECHNOLOGY    104\n",
       "FINANCE                   104\n",
       "ADVOCATE                  103\n",
       "BUSINESS-DEVELOPMENT      102\n",
       "ACCOUNTANT                101\n",
       "CONSULTANT                 99\n",
       "ENGINEERING                99\n",
       "AVIATION                   98\n",
       "CONSTRUCTION               98\n",
       "HEALTHCARE                 98\n",
       "DESIGNER                   97\n",
       "PUBLIC-RELATIONS           96\n",
       "HR                         95\n",
       "BANKING                    95\n",
       "FITNESS                    94\n",
       "SALES                      93\n",
       "CHEF                       92\n",
       "APPAREL                    87\n",
       "ARTS                       86\n",
       "DIGITAL-MEDIA              83\n",
       "TEACHER                    79\n",
       "AGRICULTURE                55\n",
       "AUTOMOBILE                 33\n",
       "BPO                        20\n",
       "Name: categorie, dtype: int64"
      ]
     },
     "execution_count": 15,
     "metadata": {},
     "output_type": "execute_result"
    }
   ],
   "source": [
    "y_train.value_counts()"
   ]
  },
  {
   "cell_type": "markdown",
   "metadata": {},
   "source": [
    "###Comme tv_matrix_trans enumére des résultat trasfomer on ne pourra pas faire un value_count"
   ]
  },
  {
   "cell_type": "code",
   "execution_count": 16,
   "metadata": {},
   "outputs": [
    {
     "data": {
      "text/plain": [
       "<2111x28321 sparse matrix of type '<class 'numpy.float64'>'\n",
       "\twith 543611 stored elements in Compressed Sparse Row format>"
      ]
     },
     "execution_count": 16,
     "metadata": {},
     "output_type": "execute_result"
    }
   ],
   "source": [
    "tv_matrix_trans"
   ]
  },
  {
   "cell_type": "markdown",
   "metadata": {},
   "source": [
    "####  Aprés avoir fait nos transformer on élabore nos données de transformation pour équlibrer notre jeux de données "
   ]
  },
  {
   "cell_type": "code",
   "execution_count": 17,
   "metadata": {},
   "outputs": [],
   "source": [
    "from imblearn.over_sampling import RandomOverSampler \n",
    "res = RandomOverSampler(sampling_strategy=\"not majority\")\n",
    "Xr,Yr = res.fit_resample(tv_matrix_trans,y_train)"
   ]
  },
  {
   "cell_type": "markdown",
   "metadata": {},
   "source": [
    "##Essayons de voir si l\"Equilibrage des données s'est éffectuez"
   ]
  },
  {
   "cell_type": "code",
   "execution_count": 18,
   "metadata": {},
   "outputs": [
    {
     "data": {
      "text/plain": [
       "AVIATION                  104\n",
       "ENGINEERING               104\n",
       "CONSULTANT                104\n",
       "BPO                       104\n",
       "INFORMATION-TECHNOLOGY    104\n",
       "SALES                     104\n",
       "CHEF                      104\n",
       "BUSINESS-DEVELOPMENT      104\n",
       "BANKING                   104\n",
       "AGRICULTURE               104\n",
       "FINANCE                   104\n",
       "FITNESS                   104\n",
       "HEALTHCARE                104\n",
       "DESIGNER                  104\n",
       "CONSTRUCTION              104\n",
       "HR                        104\n",
       "ACCOUNTANT                104\n",
       "ADVOCATE                  104\n",
       "DIGITAL-MEDIA             104\n",
       "PUBLIC-RELATIONS          104\n",
       "ARTS                      104\n",
       "APPAREL                   104\n",
       "TEACHER                   104\n",
       "AUTOMOBILE                104\n",
       "Name: categorie, dtype: int64"
      ]
     },
     "execution_count": 18,
     "metadata": {},
     "output_type": "execute_result"
    }
   ],
   "source": [
    "Yr.value_counts()"
   ]
  },
  {
   "cell_type": "code",
   "execution_count": 19,
   "metadata": {},
   "outputs": [
    {
     "data": {
      "text/plain": [
       "<2496x28321 sparse matrix of type '<class 'numpy.float64'>'\n",
       "\twith 646674 stored elements in Compressed Sparse Row format>"
      ]
     },
     "execution_count": 19,
     "metadata": {},
     "output_type": "execute_result"
    }
   ],
   "source": [
    "Xr"
   ]
  },
  {
   "cell_type": "markdown",
   "metadata": {},
   "source": [
    "##Affection cet équilibrage a nos données d'entrainement "
   ]
  },
  {
   "cell_type": "code",
   "execution_count": 20,
   "metadata": {},
   "outputs": [],
   "source": [
    "X_train=Xr\n",
    "y_train=Yr"
   ]
  },
  {
   "cell_type": "markdown",
   "metadata": {},
   "source": [
    "####  Aprés avoir fait nos transformer et élaborer l'équlibrage de  notre jeux de données  \n",
    "###   passer a l'etape de prédiction pour faire une estimation suivant le bon modéle choisit"
   ]
  },
  {
   "cell_type": "markdown",
   "metadata": {},
   "source": [
    "Utilisation de KNN"
   ]
  },
  {
   "cell_type": "code",
   "execution_count": 21,
   "metadata": {},
   "outputs": [
    {
     "name": "stdout",
     "output_type": "stream",
     "text": [
      "0.3967828418230563\n"
     ]
    }
   ],
   "source": [
    "from sklearn import neighbors\n",
    "from sklearn import metrics\n",
    "knn = neighbors.KNeighborsClassifier(n_neighbors=3)\n",
    "knn.fit(X_train,y_train)\n",
    "#testing the model\n",
    "y_pred = knn.predict(X_vec.transform( X_test))\n",
    "print(metrics.accuracy_score(y_test,y_pred))"
   ]
  },
  {
   "cell_type": "code",
   "execution_count": 22,
   "metadata": {},
   "outputs": [
    {
     "data": {
      "text/plain": [
       "0.4591346153846154"
      ]
     },
     "execution_count": 22,
     "metadata": {},
     "output_type": "execute_result"
    }
   ],
   "source": [
    "from sklearn.model_selection import cross_val_score \n",
    "cross_val_score(neighbors.KNeighborsClassifier(3),X_train,y_train, cv=6,scoring='accuracy').mean()"
   ]
  },
  {
   "cell_type": "code",
   "execution_count": 23,
   "metadata": {},
   "outputs": [
    {
     "name": "stdout",
     "output_type": "stream",
     "text": [
      "Accuracy: 0.4\n",
      "Detail:\n",
      "                        precision    recall  f1-score   support\n",
      "\n",
      "            ACCOUNTANT       0.39      0.65      0.49        17\n",
      "              ADVOCATE       0.29      0.67      0.40        15\n",
      "           AGRICULTURE       0.57      0.50      0.53         8\n",
      "               APPAREL       0.22      0.50      0.30        10\n",
      "                  ARTS       0.16      0.18      0.17        17\n",
      "            AUTOMOBILE       0.08      0.33      0.13         3\n",
      "              AVIATION       0.50      0.47      0.49        19\n",
      "               BANKING       0.45      0.50      0.48        20\n",
      "                   BPO       0.00      0.00      0.00         2\n",
      "  BUSINESS-DEVELOPMENT       0.12      0.56      0.20        18\n",
      "                  CHEF       0.83      0.73      0.78        26\n",
      "          CONSTRUCTION       0.75      0.43      0.55        14\n",
      "            CONSULTANT       0.25      0.06      0.10        16\n",
      "              DESIGNER       0.56      0.50      0.53        10\n",
      "         DIGITAL-MEDIA       0.55      0.46      0.50        13\n",
      "           ENGINEERING       0.83      0.26      0.40        19\n",
      "               FINANCE       0.56      0.36      0.43        14\n",
      "               FITNESS       0.91      0.43      0.59        23\n",
      "            HEALTHCARE       0.00      0.00      0.00        17\n",
      "                    HR       0.62      0.53      0.57        15\n",
      "INFORMATION-TECHNOLOGY       0.67      0.25      0.36        16\n",
      "      PUBLIC-RELATIONS       0.75      0.40      0.52        15\n",
      "                 SALES       0.50      0.13      0.21        23\n",
      "               TEACHER       0.70      0.30      0.42        23\n",
      "\n",
      "              accuracy                           0.40       373\n",
      "             macro avg       0.47      0.38      0.38       373\n",
      "          weighted avg       0.52      0.40      0.41       373\n",
      "\n"
     ]
    },
    {
     "name": "stderr",
     "output_type": "stream",
     "text": [
      "C:\\Users\\hp\\anaconda3\\envs\\M2BI\\lib\\site-packages\\sklearn\\metrics\\_classification.py:1334: UndefinedMetricWarning: Precision and F-score are ill-defined and being set to 0.0 in labels with no predicted samples. Use `zero_division` parameter to control this behavior.\n",
      "  _warn_prf(average, modifier, msg_start, len(result))\n",
      "C:\\Users\\hp\\anaconda3\\envs\\M2BI\\lib\\site-packages\\sklearn\\metrics\\_classification.py:1334: UndefinedMetricWarning: Precision and F-score are ill-defined and being set to 0.0 in labels with no predicted samples. Use `zero_division` parameter to control this behavior.\n",
      "  _warn_prf(average, modifier, msg_start, len(result))\n",
      "C:\\Users\\hp\\anaconda3\\envs\\M2BI\\lib\\site-packages\\sklearn\\metrics\\_classification.py:1334: UndefinedMetricWarning: Precision and F-score are ill-defined and being set to 0.0 in labels with no predicted samples. Use `zero_division` parameter to control this behavior.\n",
      "  _warn_prf(average, modifier, msg_start, len(result))\n"
     ]
    },
    {
     "data": {
      "text/plain": [
       "<AxesSubplot: >"
      ]
     },
     "execution_count": 23,
     "metadata": {},
     "output_type": "execute_result"
    },
    {
     "data": {
      "image/png": "[encoded data removed]",
      "text/plain": [
       "<Figure size 640x480 with 1 Axes>"
      ]
     },
     "metadata": {},
     "output_type": "display_data"
    }
   ],
   "source": [
    "classes = np.unique(y_test)\n",
    "y_test_array = pd.get_dummies( y_test, drop_first=False).values\n",
    "    \n",
    "## Accuracy, Precision, Recall\n",
    "accuracy = metrics.accuracy_score( y_test, y_pred)\n",
    "#auc = metrics.roc_auc_score(y_test, predicted_prob, multi_class=\"ovr\")\n",
    "print(\"Accuracy:\",  round(accuracy,2))\n",
    "#print(\"Auc:\", round(auc,2))\n",
    "print(\"Detail:\")\n",
    "print(metrics.classification_report(y_test, y_pred))\n",
    "    \n",
    "## Plot confusion matrix\n",
    "cm = metrics.confusion_matrix(y_test, y_pred)\n",
    "fig, ax = plt.subplots()\n",
    "sns.heatmap(cm, annot=True, fmt='d', ax=ax, cmap=plt.cm.Blues, \n",
    "            cbar=False)\n"
   ]
  },
  {
   "cell_type": "markdown",
   "metadata": {},
   "source": [
    "## utilisation du gridsearchcv afin de trouver trouver le meilleur modele avec les meilleur parameres"
   ]
  },
  {
   "cell_type": "markdown",
   "metadata": {},
   "source": [
    "Essayons de trouver le meilleur model avec les meilleurs huperparamétre en comparant les différentes performance de chaque combinaison  grace a la technique de cross validation "
   ]
  },
  {
   "cell_type": "code",
   "execution_count": null,
   "metadata": {},
   "outputs": [],
   "source": [
    "##Le modelLOgisticRegression a le meilleur score donc c le bon modéle pour notre jeux de données "
   ]
  },
  {
   "cell_type": "code",
   "execution_count": null,
   "metadata": {},
   "outputs": [],
   "source": [
    "# Grid search cross validation\n",
    "from sklearn.model_selection import GridSearchCV\n",
    "from sklearn.linear_model import LogisticRegression\n",
    "grid={'C':np.logspace(-4,4,20), \n",
    "      'penalty':['none','l1','l2'], \n",
    "      'solver':['newton-cg','lbfgs','liblinear']}# l1 lasso l2 ridge\n",
    "logreg=LogisticRegression()\n",
    "logreg_cv=GridSearchCV(logreg,grid,refit=True,verbose=2)\n",
    "logreg_cv.fit(X_train,y_train)\n",
    "logreg_cv.best_params_"
   ]
  },
  {
   "cell_type": "code",
   "execution_count": 26,
   "metadata": {},
   "outputs": [
    {
     "name": "stdout",
     "output_type": "stream",
     "text": [
      "0.9\n",
      "Accuracy: 0.67\n"
     ]
    }
   ],
   "source": [
    "from sklearn import metrics\n",
    "logreg2=LogisticRegression(C=4.281332398710396,penalty='l1', solver='liblinear', random_state=0)\n",
    "logreg2.fit(X_train,y_train)\n",
    "print(round(logreg2.score(X_train,y_train),2))\n",
    "y_pred = logreg2.predict(X_vec.transform( X_test))\n",
    "accuracy=metrics.accuracy_score(y_test,y_pred)\n",
    "print(\"Accuracy:\", round(accuracy,2))\n"
   ]
  },
  {
   "cell_type": "code",
   "execution_count": 28,
   "metadata": {},
   "outputs": [
    {
     "name": "stdout",
     "output_type": "stream",
     "text": [
      "Accuracy: 0.67\n",
      "Detail:\n",
      "                        precision    recall  f1-score   support\n",
      "\n",
      "            ACCOUNTANT       1.00      0.29      0.45        17\n",
      "              ADVOCATE       1.00      0.60      0.75        15\n",
      "           AGRICULTURE       0.43      0.38      0.40         8\n",
      "               APPAREL       0.86      0.60      0.71        10\n",
      "                  ARTS       0.57      0.24      0.33        17\n",
      "            AUTOMOBILE       1.00      0.33      0.50         3\n",
      "              AVIATION       0.75      0.79      0.77        19\n",
      "               BANKING       0.75      0.75      0.75        20\n",
      "                   BPO       0.25      0.50      0.33         2\n",
      "  BUSINESS-DEVELOPMENT       0.43      0.17      0.24        18\n",
      "                  CHEF       1.00      0.92      0.96        26\n",
      "          CONSTRUCTION       0.68      0.93      0.79        14\n",
      "            CONSULTANT       0.50      0.19      0.27        16\n",
      "              DESIGNER       0.67      0.40      0.50        10\n",
      "         DIGITAL-MEDIA       0.73      0.62      0.67        13\n",
      "           ENGINEERING       0.74      0.89      0.81        19\n",
      "               FINANCE       0.39      0.64      0.49        14\n",
      "               FITNESS       0.82      0.78      0.80        23\n",
      "            HEALTHCARE       0.50      0.59      0.54        17\n",
      "                    HR       0.65      1.00      0.79        15\n",
      "INFORMATION-TECHNOLOGY       0.62      0.81      0.70        16\n",
      "      PUBLIC-RELATIONS       0.87      0.87      0.87        15\n",
      "                 SALES       0.44      0.91      0.59        23\n",
      "               TEACHER       0.76      0.83      0.79        23\n",
      "\n",
      "              accuracy                           0.67       373\n",
      "             macro avg       0.68      0.63      0.62       373\n",
      "          weighted avg       0.70      0.67      0.65       373\n",
      "\n"
     ]
    },
    {
     "data": {
      "text/plain": [
       "<AxesSubplot: >"
      ]
     },
     "execution_count": 28,
     "metadata": {},
     "output_type": "execute_result"
    },
    {
     "data": {
      "image/png": "[encoded data removed]",
      "text/plain": [
       "<Figure size 640x480 with 1 Axes>"
      ]
     },
     "metadata": {},
     "output_type": "display_data"
    }
   ],
   "source": [
    "classes = np.unique(y_test)\n",
    "y_test_array = pd.get_dummies( y_test, drop_first=False).values\n",
    "    \n",
    "## Accuracy, Precision, Recall\n",
    "accuracy = metrics.accuracy_score( y_test, y_pred)\n",
    "#auc = metrics.roc_auc_score(y_test, predicted_prob, multi_class=\"ovr\")\n",
    "print(\"Accuracy:\",  round(accuracy,2))\n",
    "#print(\"Auc:\", round(auc,2))\n",
    "print(\"Detail:\")\n",
    "print(metrics.classification_report(y_test, y_pred))\n",
    "    \n",
    "## Plot confusion matrix\n",
    "cm = metrics.confusion_matrix(y_test, y_pred)\n",
    "fig, ax = plt.subplots()\n",
    "sns.heatmap(cm, annot=True, fmt='d', ax=ax, cmap=plt.cm.Blues, \n",
    "            cbar=False)\n"
   ]
  },
  {
   "cell_type": "code",
   "execution_count": 30,
   "metadata": {},
   "outputs": [
    {
     "data": {
      "text/plain": [
       "['./cv_classifier.pkl']"
      ]
     },
     "execution_count": 30,
     "metadata": {},
     "output_type": "execute_result"
    }
   ],
   "source": [
    "# Enregistrement du model \n",
    "import joblib \n",
    "joblib.dump(logreg2, './cv_classifier.pkl')"
   ]
  },
  {
   "cell_type": "code",
   "execution_count": 33,
   "metadata": {},
   "outputs": [],
   "source": [
    "#On charge notre modéle a partir du fichier précédent\n",
    "import joblib \n",
    "cv_classifier_Reload = joblib.load('./cv_classifier.pkl')"
   ]
  },
  {
   "cell_type": "code",
   "execution_count": 34,
   "metadata": {},
   "outputs": [],
   "source": [
    "from sklearn import metrics\n",
    "from sklearn.metrics import f1_score\n",
    "new_fichier = \"./jeu_de_donnees/cv_dataset/ACCOUNTANT/10554236.PDF\"\n",
    "def nouveau_cv(filename):\n",
    "    new_cv = list()\n",
    "    try:\n",
    "        temp = open(filename, \"rb\")\n",
    "        PDF_read = PyPDF2.PdfFileReader(temp)\n",
    "    except:\n",
    "          pass\n",
    "    else:\n",
    "        contenu=\"\"\n",
    "        first_page = PDF_read.getPage(0)\n",
    "        contenu=first_page.extractText()\n",
    "        new_cv.append(contenu)\n",
    "    return new_cv"
   ]
  },
  {
   "cell_type": "code",
   "execution_count": 35,
   "metadata": {},
   "outputs": [],
   "source": [
    "new_cvs= nouveau_cv(new_fichier)\n",
    "data_newcv=pd.DataFrame(data=new_cvs,columns=[\"cv\"])"
   ]
  },
  {
   "cell_type": "markdown",
   "metadata": {},
   "source": [
    "## Affichage du nouveau CV"
   ]
  },
  {
   "cell_type": "code",
   "execution_count": 37,
   "metadata": {},
   "outputs": [
    {
     "data": {
      "text/html": [
       "<div>\n",
       "<style scoped>\n",
       "    .dataframe tbody tr th:only-of-type {\n",
       "        vertical-align: middle;\n",
       "    }\n",
       "\n",
       "    .dataframe tbody tr th {\n",
       "        vertical-align: top;\n",
       "    }\n",
       "\n",
       "    .dataframe thead th {\n",
       "        text-align: right;\n",
       "    }\n",
       "</style>\n",
       "<table border=\"1\" class=\"dataframe\">\n",
       "  <thead>\n",
       "    <tr style=\"text-align: right;\">\n",
       "      <th></th>\n",
       "      <th>cv</th>\n",
       "    </tr>\n",
       "  </thead>\n",
       "  <tbody>\n",
       "    <tr>\n",
       "      <th>0</th>\n",
       "      <td>accountantsummari financi account special fina...</td>\n",
       "    </tr>\n",
       "  </tbody>\n",
       "</table>\n",
       "</div>"
      ],
      "text/plain": [
       "                                                  cv\n",
       "0  accountantsummari financi account special fina..."
      ]
     },
     "execution_count": 37,
     "metadata": {},
     "output_type": "execute_result"
    }
   ],
   "source": [
    "data_newcv"
   ]
  },
  {
   "cell_type": "markdown",
   "metadata": {},
   "source": [
    "##Nettoyage"
   ]
  },
  {
   "cell_type": "code",
   "execution_count": 40,
   "metadata": {},
   "outputs": [],
   "source": [
    "data_newcv.cv= data_newcv.cv.apply(lambda document: clean(document, stop_words, Mauvais_caract))"
   ]
  },
  {
   "cell_type": "markdown",
   "metadata": {},
   "source": [
    "## Transformons le data_newcv pour faire un prediction "
   ]
  },
  {
   "cell_type": "code",
   "execution_count": 52,
   "metadata": {},
   "outputs": [
    {
     "name": "stdout",
     "output_type": "stream",
     "text": [
      "ACCOUNTANT\n"
     ]
    }
   ],
   "source": [
    "CN=data_newcv.iloc[0,0]\n",
    "pred = cv_classifier_Reload.predict(X_vec.transform([CN]))\n",
    "print(pred[0])"
   ]
  },
  {
   "cell_type": "markdown",
   "metadata": {},
   "source": [
    "NB: Pour de nouveaux exemples, penser à les suivres toutes les étapes. (conversion, prétraitement, vectorisation, etc...)"
   ]
  },
  {
   "cell_type": "code",
   "execution_count": 27,
   "metadata": {},
   "outputs": [
    {
     "data": {
      "text/plain": [
       "\" Conclusion\\ndecoupage d'abord de notre jeux de données\\nAprés  transformation et vectorisation lorque les données sont équilibré on choisit le bon model suivant le bon score tout en utilisant les données transformer:\\nxvec=countvectorize().fit(x_train)\\nx_train_trans=xvec.fit_transform(x_train)\\nchoix model:\\nmodel= nommodel()\\nmodel.fit(x_train_trans,y_train)\\nx_test_trans=xvec.transform(x_test)\\ny_pred=model.predict(x_test_trans)\\nprint(metrics.accuracy_score(y_test,y_pred))\""
      ]
     },
     "execution_count": 27,
     "metadata": {},
     "output_type": "execute_result"
    }
   ],
   "source": [
    "\"\"\" Conclusion\n",
    "decoupage d'abord de notre jeux de données\n",
    "Aprés  transformation et vectorisation lorque les données sont équilibré on choisit le bon model suivant le bon score tout en utilisant les données transformer:\n",
    "xvec=countvectorize().fit(x_train)\n",
    "x_train_trans=xvec.fit_transform(x_train)\n",
    "choix model:\n",
    "model= nommodel()\n",
    "model.fit(x_train_trans,y_train)\n",
    "x_test_trans=xvec.transform(x_test)\n",
    "y_pred=model.predict(x_test_trans)\n",
    "print(metrics.accuracy_score(y_test,y_pred))\"\"\""
   ]
  },
  {
   "cell_type": "markdown",
   "metadata": {},
   "source": [
    "## TOp10  des CVS selon la categorie"
   ]
  },
  {
   "cell_type": "code",
   "execution_count": 54,
   "metadata": {},
   "outputs": [],
   "source": [
    "import gensim\n",
    "import gensim.downloader as api\n",
    "from gensim.models.doc2vec import *\n",
    "import multiprocessing\n",
    "cores = multiprocessing.cpu_count()"
   ]
  },
  {
   "cell_type": "code",
   "execution_count": 89,
   "metadata": {},
   "outputs": [
    {
     "data": {
      "text/html": [
       "<div>\n",
       "<style scoped>\n",
       "    .dataframe tbody tr th:only-of-type {\n",
       "        vertical-align: middle;\n",
       "    }\n",
       "\n",
       "    .dataframe tbody tr th {\n",
       "        vertical-align: top;\n",
       "    }\n",
       "\n",
       "    .dataframe thead th {\n",
       "        text-align: right;\n",
       "    }\n",
       "</style>\n",
       "<table border=\"1\" class=\"dataframe\">\n",
       "  <thead>\n",
       "    <tr style=\"text-align: right;\">\n",
       "      <th></th>\n",
       "      <th>cv</th>\n",
       "      <th>categorie</th>\n",
       "      <th>NAME</th>\n",
       "    </tr>\n",
       "  </thead>\n",
       "  <tbody>\n",
       "    <tr>\n",
       "      <th>0</th>\n",
       "      <td>ACCOUNTANTSummary\\nFinancial Accountant specia...</td>\n",
       "      <td>ACCOUNTANT</td>\n",
       "      <td>10554236.pdf</td>\n",
       "    </tr>\n",
       "    <tr>\n",
       "      <th>1</th>\n",
       "      <td>STAFF ACCOUNTANTSummary\\nHighly analytical and...</td>\n",
       "      <td>ACCOUNTANT</td>\n",
       "      <td>10674770.pdf</td>\n",
       "    </tr>\n",
       "    <tr>\n",
       "      <th>2</th>\n",
       "      <td>ACCOUNTANTProfessional Summary\\nTo obtain a po...</td>\n",
       "      <td>ACCOUNTANT</td>\n",
       "      <td>11163645.pdf</td>\n",
       "    </tr>\n",
       "    <tr>\n",
       "      <th>3</th>\n",
       "      <td>SENIOR ACCOUNTANTExperience\\nCompany Name\\n \\n...</td>\n",
       "      <td>ACCOUNTANT</td>\n",
       "      <td>11759079.pdf</td>\n",
       "    </tr>\n",
       "    <tr>\n",
       "      <th>4</th>\n",
       "      <td>SENIOR ACCOUNTANTProfessional Summary\\nSenior ...</td>\n",
       "      <td>ACCOUNTANT</td>\n",
       "      <td>12065211.pdf</td>\n",
       "    </tr>\n",
       "    <tr>\n",
       "      <th>...</th>\n",
       "      <td>...</td>\n",
       "      <td>...</td>\n",
       "      <td>...</td>\n",
       "    </tr>\n",
       "    <tr>\n",
       "      <th>113</th>\n",
       "      <td>GENERAL ACCOUNTANTCareer Focus\\nTo obtain a po...</td>\n",
       "      <td>ACCOUNTANT</td>\n",
       "      <td>80053367.pdf</td>\n",
       "    </tr>\n",
       "    <tr>\n",
       "      <th>114</th>\n",
       "      <td>SENIOR ACCOUNTANTSummary\\nA highly competent, ...</td>\n",
       "      <td>ACCOUNTANT</td>\n",
       "      <td>82649935.pdf</td>\n",
       "    </tr>\n",
       "    <tr>\n",
       "      <th>115</th>\n",
       "      <td>PRINCIPAL ACCOUNTANTSummary\\nCapable Accountan...</td>\n",
       "      <td>ACCOUNTANT</td>\n",
       "      <td>87635012.pdf</td>\n",
       "    </tr>\n",
       "    <tr>\n",
       "      <th>116</th>\n",
       "      <td>PAYROLL ACCOUNTANTSummary\\nHas a strong work e...</td>\n",
       "      <td>ACCOUNTANT</td>\n",
       "      <td>98559931.pdf</td>\n",
       "    </tr>\n",
       "    <tr>\n",
       "      <th>117</th>\n",
       "      <td>ACCOUNTANT III\\nSummary\\nEnergetic mother of 4...</td>\n",
       "      <td>ACCOUNTANT</td>\n",
       "      <td>cv_type.pdf</td>\n",
       "    </tr>\n",
       "  </tbody>\n",
       "</table>\n",
       "<p>118 rows × 3 columns</p>\n",
       "</div>"
      ],
      "text/plain": [
       "                                                    cv   categorie  \\\n",
       "0    ACCOUNTANTSummary\\nFinancial Accountant specia...  ACCOUNTANT   \n",
       "1    STAFF ACCOUNTANTSummary\\nHighly analytical and...  ACCOUNTANT   \n",
       "2    ACCOUNTANTProfessional Summary\\nTo obtain a po...  ACCOUNTANT   \n",
       "3    SENIOR ACCOUNTANTExperience\\nCompany Name\\n \\n...  ACCOUNTANT   \n",
       "4    SENIOR ACCOUNTANTProfessional Summary\\nSenior ...  ACCOUNTANT   \n",
       "..                                                 ...         ...   \n",
       "113  GENERAL ACCOUNTANTCareer Focus\\nTo obtain a po...  ACCOUNTANT   \n",
       "114  SENIOR ACCOUNTANTSummary\\nA highly competent, ...  ACCOUNTANT   \n",
       "115  PRINCIPAL ACCOUNTANTSummary\\nCapable Accountan...  ACCOUNTANT   \n",
       "116  PAYROLL ACCOUNTANTSummary\\nHas a strong work e...  ACCOUNTANT   \n",
       "117  ACCOUNTANT III\\nSummary\\nEnergetic mother of 4...  ACCOUNTANT   \n",
       "\n",
       "             NAME  \n",
       "0    10554236.pdf  \n",
       "1    10674770.pdf  \n",
       "2    11163645.pdf  \n",
       "3    11759079.pdf  \n",
       "4    12065211.pdf  \n",
       "..            ...  \n",
       "113  80053367.pdf  \n",
       "114  82649935.pdf  \n",
       "115  87635012.pdf  \n",
       "116  98559931.pdf  \n",
       "117   cv_type.pdf  \n",
       "\n",
       "[118 rows x 3 columns]"
      ]
     },
     "execution_count": 89,
     "metadata": {},
     "output_type": "execute_result"
    }
   ],
   "source": [
    "data_cat = data[data[\"categorie\"]==\"ACCOUNTANT\"]\n",
    "data_cat"
   ]
  },
  {
   "cell_type": "code",
   "execution_count": 90,
   "metadata": {
    "scrolled": true
   },
   "outputs": [
    {
     "data": {
      "text/plain": [
       "0      ACCOUNTANTSummary\\nFinancial Accountant specia...\n",
       "1      STAFF ACCOUNTANTSummary\\nHighly analytical and...\n",
       "2      ACCOUNTANTProfessional Summary\\nTo obtain a po...\n",
       "3      SENIOR ACCOUNTANTExperience\\nCompany Name\\n \\n...\n",
       "4      SENIOR ACCOUNTANTProfessional Summary\\nSenior ...\n",
       "                             ...                        \n",
       "113    GENERAL ACCOUNTANTCareer Focus\\nTo obtain a po...\n",
       "114    SENIOR ACCOUNTANTSummary\\nA highly competent, ...\n",
       "115    PRINCIPAL ACCOUNTANTSummary\\nCapable Accountan...\n",
       "116    PAYROLL ACCOUNTANTSummary\\nHas a strong work e...\n",
       "117    ACCOUNTANT III\\nSummary\\nEnergetic mother of 4...\n",
       "Name: cv, Length: 118, dtype: object"
      ]
     },
     "execution_count": 90,
     "metadata": {},
     "output_type": "execute_result"
    }
   ],
   "source": [
    "data_cat.cv"
   ]
  },
  {
   "cell_type": "code",
   "execution_count": 116,
   "metadata": {},
   "outputs": [],
   "source": [
    "def top10(categorie, n):\n",
    "    data_cat = data[data[\"categorie\"]==categorie]\n",
    "    corpus = data_cat.cv\n",
    "    docs=[TaggedDocument(words=word_tokenize(doc), tags=[i]) for i, doc in enumerate(corpus)]\n",
    "    \"\"\"Une fois formés, nous devons maintenant initialiser le modèle. cela peut être fait comme suit −\"\"\"\n",
    "    model = Doc2Vec(docs, vector_size=50, window=1, min_count=1, workers=cores)\n",
    "    \"\"\"Maintenant, construisez le vocabulaire comme suit −\"\"\"\n",
    "    model.build_vocab(docs)\n",
    "    \"\"\"Maintenant, entraînons le modèle Doc2Vec comme suit −\"\"\"\n",
    "    model.train(docs, total_examples=model.corpus_count, epochs=100)\n",
    "    \"\"\"simmilarité\"\"\"\n",
    "    top10 = model.dv.most_similar(len(corpus) -1, topn=n)\n",
    "    return top10"
   ]
  },
  {
   "cell_type": "code",
   "execution_count": 117,
   "metadata": {},
   "outputs": [
    {
     "data": {
      "text/plain": [
       "[(71, 0.7007667422294617),\n",
       " (51, 0.6904125809669495),\n",
       " (49, 0.6292073130607605),\n",
       " (67, 0.5765034556388855),\n",
       " (60, 0.5751392841339111),\n",
       " (21, 0.570796549320221),\n",
       " (107, 0.5662065744400024),\n",
       " (35, 0.5514947175979614),\n",
       " (109, 0.5499977469444275),\n",
       " (10, 0.5326189994812012)]"
      ]
     },
     "execution_count": 117,
     "metadata": {},
     "output_type": "execute_result"
    }
   ],
   "source": [
    "top10(\"ACCOUNTANT\", 10)"
   ]
  },
  {
   "cell_type": "markdown",
   "metadata": {},
   "source": [
    "## Affichage du Top10 des CVS"
   ]
  },
  {
   "cell_type": "code",
   "execution_count": 125,
   "metadata": {},
   "outputs": [
    {
     "name": "stdout",
     "output_type": "stream",
     "text": [
      "25935030.pdf\n",
      "23246831.pdf\n",
      "22925443.pdf\n",
      "25749150.pdf\n",
      "24703009.pdf\n",
      "14496667.pdf\n",
      "59403481.pdf\n",
      "18669563.pdf\n",
      "63137898.pdf\n",
      "13072019.pdf\n"
     ]
    },
    {
     "data": {
      "text/plain": [
       "[None, None, None, None, None, None, None, None, None, None]"
      ]
     },
     "execution_count": 125,
     "metadata": {},
     "output_type": "execute_result"
    }
   ],
   "source": [
    "t=[71,51,49,67,60,21,107,35,109,10]\n",
    "[print(RESULTAT.iloc[doc]) for i, doc in enumerate(t)]      "
   ]
  },
  {
   "cell_type": "code",
   "execution_count": 126,
   "metadata": {},
   "outputs": [
    {
     "data": {
      "text/plain": [
       "['ACCOUNTANTSummary\\nFinancial Accountant specializing in financial planning, reporting and analysis within the Department of Defense.\\nHighlights\\nAccount reconciliations\\nResults-oriented\\nFinancial reporting\\nCritical thinking\\nAccounting operations professional\\nAnalysis of financial systems\\nERP (Enterprise Resource Planning) software.\\nExcellent facilitator\\nAccomplishments\\nServed on a tiger team which identified and resolved General Ledger postings in DEAMS totaling $360B in accounting adjustments. This allowed\\nfor the first successful fiscal year-end close for 2012.\\nIn collaboration with DFAS Europe, developed an automated tool that identified duplicate obligations. This tool allowed HQ USAFE to\\ndeobligate over $5M in duplicate obligations.\\nExperience\\nCompany Name\\n \\nJuly 2011\\n \\nto \\nNovember 2012\\n \\nAccountant\\n \\nCity\\n \\n, \\nState\\nEnterprise Resource Planning Office (ERO)\\nIn this position as an Accountant assigned to the Defense Enterprise Accounting and Management System (DEAMS) ERO I was\\nresponsible for identifying and resolving issues affecting the DEAMS General Ledger.\\nI worked with teammates from the Procure to Pay, Orders to Cash, and Budget to Report areas to resolve daily challenges encountered\\nwith the deployment of DEAMS to additional customers and when system change requests were promoted to production.\\nI supported the testing of scripts, patches, and system change requests ensuring any anomalies were identified to the DEAMS Functional\\nManagement Office for action by the DEAMS Program Management Office and/or the System Integrator.\\nIn addition, I served on a tiger team designed to identify and resolve General Ledger posting differences and supported the development of\\n$360B in accounting adjustments allowing for the first successful fiscal year-end close in 2012.\\nThese actions also allowed for the reconciliation and closure of fiscal year 2010 and 2011 accounting adjustments ensuring that all DEAMS\\nfiscal year-end requirements were completed.\\nThese actions were recognized as critical to the successful review report issued by the Air Force Operational Test and Evaluation Center\\n(AFOTEC) resulting in the Air Force receiving the authority to continue with the deployment of DEAMS.\\nCompany Name\\n \\nApril 2010\\n \\nto \\nJune 2011\\n \\nResource Advisor\\n \\nCity\\n \\n, \\nState\\nIn this position as Resource Advisor for the 1st Air Communications Operation Squadron (1ACOS) I was responsible for providing\\nfinancial advice and decision support to the Commander.\\nI was responsible for coordinating a $4.6M budget between four funding sources.\\nI coordinated with USAFE Directorate of Intelligence (USAFE/A2), USAFE Directorate of Air and Space Operations (USAFE/A3),\\nUSAFE Directorate of Communications (USAFE/A6) and the 435th Air Ground Operations Wing to ensure 1ACOS meets its mission\\nrequirements.\\nI consistently managed three separate timelines for providing budget/unfunded requirements, providing documentation and various reports in\\nthe required format for each organization.\\nI discussed the outcome of the Group and Directorate budget meetings providing feedback the same day to the Flight Chiefs and CC any\\nissue which affects 1ACOS directly.\\nI monitored the Defense Travel System (DTS) daily and identify orders and authorizations needing approval and provided notification to the\\nappropriate Reviewing Officials and Approvers.\\nUtilizing DTS and the General Accounting and Finance System I reviewed status reports to identify anomalies in obligations and have\\nidentified those orders which require correction prior to payment.\\nI provided Government Purchase Card (GPC) status reports the same day they are requested and in addition, communicated with the\\nappropriate cardholders when changes were required to support their program.\\nI identified cardholder training requirements and monitored these requirements to ensure all required training was completed in support of\\nthis mission critical program.\\nI developed guidance for the GPC cardholders on procedures for requesting training for the squadron and in addition I provided answers to\\ncardholder questions on unique or non-standard issues/concerns.']"
      ]
     },
     "execution_count": 126,
     "metadata": {},
     "output_type": "execute_result"
    }
   ],
   "source": [
    "new_cvs"
   ]
  },
  {
   "cell_type": "code",
   "execution_count": null,
   "metadata": {},
   "outputs": [],
   "source": []
  }
 ],
 "metadata": {
  "colab": {
   "name": "Tp18 : Starter Notebook.ipynb",
   "provenance": []
  },
  "kernelspec": {
   "display_name": "Python 3 (ipykernel)",
   "language": "python",
   "name": "python3"
  },
  "language_info": {
   "codemirror_mode": {
    "name": "ipython",
    "version": 3
   },
   "file_extension": ".py",
   "mimetype": "text/x-python",
   "name": "python",
   "nbconvert_exporter": "python",
   "pygments_lexer": "ipython3",
   "version": "3.9.7"
  }
 },
 "nbformat": 4,
 "nbformat_minor": 4
}
